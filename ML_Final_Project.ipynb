{
  "nbformat": 4,
  "nbformat_minor": 0,
  "metadata": {
    "colab": {
      "provenance": []
    },
    "kernelspec": {
      "name": "python3",
      "display_name": "Python 3"
    },
    "language_info": {
      "name": "python"
    }
  },
  "cells": [
    {
      "cell_type": "markdown",
      "source": [
        "# Introduction\n",
        "## Background\n",
        "This Jupyter Notebook aims to predict the popularity of a song based on its characteristics. This problem matters because knowing what makes songs popular helps musical artists share their work and connect with as many fans as possible. Music is fundamental in uniting communities and enriching culture, and it is by maximizing its popularity that a song reaches its true potential to transform the lives of its listeners.\n",
        "\n",
        "Results of this model could not only be used to predict how a song is likely to spread worldwide, but they can also be used to analyze cultural trends over time. What makes a song popular now will likely not be what makes it popular in a decade, and especially with an increasingly connected digital world, information flows more quickly than ever. Comparing song popularity indicators over time can be used to indicate how historical events and trends influence what music the general population likes to consume, as well as where this consumption desire is likely to head in the future. Predicting this song popularity will help musicians most effectively connect with a changing global listening population.\n",
        "## Dataset\n",
        "The source dataset for this notebook can be accessed [here](https://www.kaggle.com/datasets/maharshipandya/-spotify-tracks-dataset/data). The original dataset consists of 114,000 records of songs pulled directly from the Spotify API. Spotify is the most popular music-streaming platform in the world, and it also maintains high-quality information about each of its audio files. Each song contains the following information, not all-inclusive:\n",
        "\n",
        "\n",
        "*   Identification information such as its title, artist/s, attatched album, and genre\n",
        "*   Quantitative information such as song duration, beats per minute, and volume distribution\n",
        "*   Qualitative attributes, such as danceability, energy, and vocalness, translated into a normalized score\n",
        "\n",
        "\n",
        "For this notebook, the 'popularity' attribute is being separated and used as the label because this is what the model will predict.\n"
      ],
      "metadata": {
        "id": "g3oSqIgZ5GK8"
      }
    },
    {
      "cell_type": "markdown",
      "source": [
        "### Import necessary libraries and set up the working directory."
      ],
      "metadata": {
        "id": "zGw3yQSC5mrK"
      }
    },
    {
      "cell_type": "code",
      "execution_count": null,
      "metadata": {
        "id": "AGe1AAdlYjLX",
        "colab": {
          "base_uri": "https://localhost:8080/"
        },
        "outputId": "6237172e-d7d4-41a7-ee18-461d1d6f4120"
      },
      "outputs": [
        {
          "output_type": "stream",
          "name": "stdout",
          "text": [
            "Requirement already satisfied: category_encoders in /usr/local/lib/python3.10/dist-packages (2.6.3)\n",
            "Requirement already satisfied: numpy>=1.14.0 in /usr/local/lib/python3.10/dist-packages (from category_encoders) (1.25.2)\n",
            "Requirement already satisfied: scikit-learn>=0.20.0 in /usr/local/lib/python3.10/dist-packages (from category_encoders) (1.2.2)\n",
            "Requirement already satisfied: scipy>=1.0.0 in /usr/local/lib/python3.10/dist-packages (from category_encoders) (1.11.4)\n",
            "Requirement already satisfied: statsmodels>=0.9.0 in /usr/local/lib/python3.10/dist-packages (from category_encoders) (0.14.2)\n",
            "Requirement already satisfied: pandas>=1.0.5 in /usr/local/lib/python3.10/dist-packages (from category_encoders) (2.0.3)\n",
            "Requirement already satisfied: patsy>=0.5.1 in /usr/local/lib/python3.10/dist-packages (from category_encoders) (0.5.6)\n",
            "Requirement already satisfied: python-dateutil>=2.8.2 in /usr/local/lib/python3.10/dist-packages (from pandas>=1.0.5->category_encoders) (2.8.2)\n",
            "Requirement already satisfied: pytz>=2020.1 in /usr/local/lib/python3.10/dist-packages (from pandas>=1.0.5->category_encoders) (2023.4)\n",
            "Requirement already satisfied: tzdata>=2022.1 in /usr/local/lib/python3.10/dist-packages (from pandas>=1.0.5->category_encoders) (2024.1)\n",
            "Requirement already satisfied: six in /usr/local/lib/python3.10/dist-packages (from patsy>=0.5.1->category_encoders) (1.16.0)\n",
            "Requirement already satisfied: joblib>=1.1.1 in /usr/local/lib/python3.10/dist-packages (from scikit-learn>=0.20.0->category_encoders) (1.4.0)\n",
            "Requirement already satisfied: threadpoolctl>=2.0.0 in /usr/local/lib/python3.10/dist-packages (from scikit-learn>=0.20.0->category_encoders) (3.4.0)\n",
            "Requirement already satisfied: packaging>=21.3 in /usr/local/lib/python3.10/dist-packages (from statsmodels>=0.9.0->category_encoders) (24.0)\n"
          ]
        }
      ],
      "source": [
        "# Installations and imports\n",
        "%pip install category_encoders\n",
        "\n",
        "import pandas as pd\n",
        "import numpy as np\n",
        "import sklearn as sk\n",
        "import matplotlib.pyplot as plt\n",
        "import seaborn as sns\n",
        "from google.colab import drive\n",
        "import category_encoders as ce\n",
        "from yellowbrick.target import FeatureCorrelation"
      ]
    },
    {
      "cell_type": "code",
      "source": [
        "# Set up working directory\n",
        "drive.mount('/content/drive')\n",
        "%cd /content/drive/MyDrive/School/CS 363M/ML Final Project"
      ],
      "metadata": {
        "id": "Kz-PnaDYY_ca",
        "colab": {
          "base_uri": "https://localhost:8080/"
        },
        "outputId": "3b70e0e8-8fd0-4703-863a-4c5f13594bb7"
      },
      "execution_count": null,
      "outputs": [
        {
          "output_type": "stream",
          "name": "stdout",
          "text": [
            "Drive already mounted at /content/drive; to attempt to forcibly remount, call drive.mount(\"/content/drive\", force_remount=True).\n",
            "[Errno 2] No such file or directory: '/content/drive/MyDrive/School/CS 363M/ML Final Project'\n",
            "/content/drive/MyDrive/UT/Junior Year/ML Final Project\n"
          ]
        }
      ]
    },
    {
      "cell_type": "code",
      "source": [
        "# Ryan's Working Directory\n",
        "drive.mount( '/content/drive')\n",
        "%cd /content/drive/MyDrive/UT/Junior Year/ML Final Project"
      ],
      "metadata": {
        "id": "fjEshgvkur77",
        "colab": {
          "base_uri": "https://localhost:8080/"
        },
        "outputId": "7f566efb-5efc-4c7a-d815-789660c86dc6"
      },
      "execution_count": null,
      "outputs": [
        {
          "output_type": "stream",
          "name": "stdout",
          "text": [
            "Drive already mounted at /content/drive; to attempt to forcibly remount, call drive.mount(\"/content/drive\", force_remount=True).\n",
            "/content/drive/MyDrive/UT/Junior Year/ML Final Project\n"
          ]
        }
      ]
    },
    {
      "cell_type": "markdown",
      "source": [
        "# Data Cleaning"
      ],
      "metadata": {
        "id": "I2pfosve43RI"
      }
    },
    {
      "cell_type": "markdown",
      "source": [
        "### Look at the raw dataset and analyze the given features.\n",
        "\n",
        "Before we look at our data, it is important to see what our feature set looks like, both to better understand what we may need to do for feature engineering and to note any outliers that might be useful in data exploration"
      ],
      "metadata": {
        "id": "_vf9rnip599C"
      }
    },
    {
      "cell_type": "code",
      "source": [
        "# View the raw data\n",
        "df = pd.read_csv('dataset.csv')\n",
        "print(f'There are {len(df)} records in the dataset.')\n",
        "df.head()"
      ],
      "metadata": {
        "id": "2OrjOik1au2o",
        "colab": {
          "base_uri": "https://localhost:8080/"
        },
        "outputId": "7a4be2b2-91a9-4fe3-c023-1274baea5d58"
      },
      "execution_count": null,
      "outputs": [
        {
          "output_type": "stream",
          "name": "stdout",
          "text": [
            "There are 114000 records in the dataset.\n"
          ]
        },
        {
          "output_type": "execute_result",
          "data": {
            "text/plain": [
              "   Unnamed: 0                track_id                 artists  \\\n",
              "0           0  5SuOikwiRyPMVoIQDJUgSV             Gen Hoshino   \n",
              "1           1  4qPNDBW1i3p13qLCt0Ki3A            Ben Woodward   \n",
              "2           2  1iJBSr7s7jYXzM8EGcbK5b  Ingrid Michaelson;ZAYN   \n",
              "3           3  6lfxq3CG4xtTiEg7opyCyx            Kina Grannis   \n",
              "4           4  5vjLSffimiIP26QG5WcN2K        Chord Overstreet   \n",
              "\n",
              "                                          album_name  \\\n",
              "0                                             Comedy   \n",
              "1                                   Ghost (Acoustic)   \n",
              "2                                     To Begin Again   \n",
              "3  Crazy Rich Asians (Original Motion Picture Sou...   \n",
              "4                                            Hold On   \n",
              "\n",
              "                   track_name  popularity  duration_ms  explicit  \\\n",
              "0                      Comedy          73       230666     False   \n",
              "1            Ghost - Acoustic          55       149610     False   \n",
              "2              To Begin Again          57       210826     False   \n",
              "3  Can't Help Falling In Love          71       201933     False   \n",
              "4                     Hold On          82       198853     False   \n",
              "\n",
              "   danceability  energy  ...  loudness  mode  speechiness  acousticness  \\\n",
              "0         0.676  0.4610  ...    -6.746     0       0.1430        0.0322   \n",
              "1         0.420  0.1660  ...   -17.235     1       0.0763        0.9240   \n",
              "2         0.438  0.3590  ...    -9.734     1       0.0557        0.2100   \n",
              "3         0.266  0.0596  ...   -18.515     1       0.0363        0.9050   \n",
              "4         0.618  0.4430  ...    -9.681     1       0.0526        0.4690   \n",
              "\n",
              "   instrumentalness  liveness  valence    tempo  time_signature  track_genre  \n",
              "0          0.000001    0.3580    0.715   87.917               4     acoustic  \n",
              "1          0.000006    0.1010    0.267   77.489               4     acoustic  \n",
              "2          0.000000    0.1170    0.120   76.332               4     acoustic  \n",
              "3          0.000071    0.1320    0.143  181.740               3     acoustic  \n",
              "4          0.000000    0.0829    0.167  119.949               4     acoustic  \n",
              "\n",
              "[5 rows x 21 columns]"
            ],
            "text/html": [
              "\n",
              "  <div id=\"df-203967cf-8484-45a2-9644-be42d4157e58\" class=\"colab-df-container\">\n",
              "    <div>\n",
              "<style scoped>\n",
              "    .dataframe tbody tr th:only-of-type {\n",
              "        vertical-align: middle;\n",
              "    }\n",
              "\n",
              "    .dataframe tbody tr th {\n",
              "        vertical-align: top;\n",
              "    }\n",
              "\n",
              "    .dataframe thead th {\n",
              "        text-align: right;\n",
              "    }\n",
              "</style>\n",
              "<table border=\"1\" class=\"dataframe\">\n",
              "  <thead>\n",
              "    <tr style=\"text-align: right;\">\n",
              "      <th></th>\n",
              "      <th>Unnamed: 0</th>\n",
              "      <th>track_id</th>\n",
              "      <th>artists</th>\n",
              "      <th>album_name</th>\n",
              "      <th>track_name</th>\n",
              "      <th>popularity</th>\n",
              "      <th>duration_ms</th>\n",
              "      <th>explicit</th>\n",
              "      <th>danceability</th>\n",
              "      <th>energy</th>\n",
              "      <th>...</th>\n",
              "      <th>loudness</th>\n",
              "      <th>mode</th>\n",
              "      <th>speechiness</th>\n",
              "      <th>acousticness</th>\n",
              "      <th>instrumentalness</th>\n",
              "      <th>liveness</th>\n",
              "      <th>valence</th>\n",
              "      <th>tempo</th>\n",
              "      <th>time_signature</th>\n",
              "      <th>track_genre</th>\n",
              "    </tr>\n",
              "  </thead>\n",
              "  <tbody>\n",
              "    <tr>\n",
              "      <th>0</th>\n",
              "      <td>0</td>\n",
              "      <td>5SuOikwiRyPMVoIQDJUgSV</td>\n",
              "      <td>Gen Hoshino</td>\n",
              "      <td>Comedy</td>\n",
              "      <td>Comedy</td>\n",
              "      <td>73</td>\n",
              "      <td>230666</td>\n",
              "      <td>False</td>\n",
              "      <td>0.676</td>\n",
              "      <td>0.4610</td>\n",
              "      <td>...</td>\n",
              "      <td>-6.746</td>\n",
              "      <td>0</td>\n",
              "      <td>0.1430</td>\n",
              "      <td>0.0322</td>\n",
              "      <td>0.000001</td>\n",
              "      <td>0.3580</td>\n",
              "      <td>0.715</td>\n",
              "      <td>87.917</td>\n",
              "      <td>4</td>\n",
              "      <td>acoustic</td>\n",
              "    </tr>\n",
              "    <tr>\n",
              "      <th>1</th>\n",
              "      <td>1</td>\n",
              "      <td>4qPNDBW1i3p13qLCt0Ki3A</td>\n",
              "      <td>Ben Woodward</td>\n",
              "      <td>Ghost (Acoustic)</td>\n",
              "      <td>Ghost - Acoustic</td>\n",
              "      <td>55</td>\n",
              "      <td>149610</td>\n",
              "      <td>False</td>\n",
              "      <td>0.420</td>\n",
              "      <td>0.1660</td>\n",
              "      <td>...</td>\n",
              "      <td>-17.235</td>\n",
              "      <td>1</td>\n",
              "      <td>0.0763</td>\n",
              "      <td>0.9240</td>\n",
              "      <td>0.000006</td>\n",
              "      <td>0.1010</td>\n",
              "      <td>0.267</td>\n",
              "      <td>77.489</td>\n",
              "      <td>4</td>\n",
              "      <td>acoustic</td>\n",
              "    </tr>\n",
              "    <tr>\n",
              "      <th>2</th>\n",
              "      <td>2</td>\n",
              "      <td>1iJBSr7s7jYXzM8EGcbK5b</td>\n",
              "      <td>Ingrid Michaelson;ZAYN</td>\n",
              "      <td>To Begin Again</td>\n",
              "      <td>To Begin Again</td>\n",
              "      <td>57</td>\n",
              "      <td>210826</td>\n",
              "      <td>False</td>\n",
              "      <td>0.438</td>\n",
              "      <td>0.3590</td>\n",
              "      <td>...</td>\n",
              "      <td>-9.734</td>\n",
              "      <td>1</td>\n",
              "      <td>0.0557</td>\n",
              "      <td>0.2100</td>\n",
              "      <td>0.000000</td>\n",
              "      <td>0.1170</td>\n",
              "      <td>0.120</td>\n",
              "      <td>76.332</td>\n",
              "      <td>4</td>\n",
              "      <td>acoustic</td>\n",
              "    </tr>\n",
              "    <tr>\n",
              "      <th>3</th>\n",
              "      <td>3</td>\n",
              "      <td>6lfxq3CG4xtTiEg7opyCyx</td>\n",
              "      <td>Kina Grannis</td>\n",
              "      <td>Crazy Rich Asians (Original Motion Picture Sou...</td>\n",
              "      <td>Can't Help Falling In Love</td>\n",
              "      <td>71</td>\n",
              "      <td>201933</td>\n",
              "      <td>False</td>\n",
              "      <td>0.266</td>\n",
              "      <td>0.0596</td>\n",
              "      <td>...</td>\n",
              "      <td>-18.515</td>\n",
              "      <td>1</td>\n",
              "      <td>0.0363</td>\n",
              "      <td>0.9050</td>\n",
              "      <td>0.000071</td>\n",
              "      <td>0.1320</td>\n",
              "      <td>0.143</td>\n",
              "      <td>181.740</td>\n",
              "      <td>3</td>\n",
              "      <td>acoustic</td>\n",
              "    </tr>\n",
              "    <tr>\n",
              "      <th>4</th>\n",
              "      <td>4</td>\n",
              "      <td>5vjLSffimiIP26QG5WcN2K</td>\n",
              "      <td>Chord Overstreet</td>\n",
              "      <td>Hold On</td>\n",
              "      <td>Hold On</td>\n",
              "      <td>82</td>\n",
              "      <td>198853</td>\n",
              "      <td>False</td>\n",
              "      <td>0.618</td>\n",
              "      <td>0.4430</td>\n",
              "      <td>...</td>\n",
              "      <td>-9.681</td>\n",
              "      <td>1</td>\n",
              "      <td>0.0526</td>\n",
              "      <td>0.4690</td>\n",
              "      <td>0.000000</td>\n",
              "      <td>0.0829</td>\n",
              "      <td>0.167</td>\n",
              "      <td>119.949</td>\n",
              "      <td>4</td>\n",
              "      <td>acoustic</td>\n",
              "    </tr>\n",
              "  </tbody>\n",
              "</table>\n",
              "<p>5 rows × 21 columns</p>\n",
              "</div>\n",
              "    <div class=\"colab-df-buttons\">\n",
              "\n",
              "  <div class=\"colab-df-container\">\n",
              "    <button class=\"colab-df-convert\" onclick=\"convertToInteractive('df-203967cf-8484-45a2-9644-be42d4157e58')\"\n",
              "            title=\"Convert this dataframe to an interactive table.\"\n",
              "            style=\"display:none;\">\n",
              "\n",
              "  <svg xmlns=\"http://www.w3.org/2000/svg\" height=\"24px\" viewBox=\"0 -960 960 960\">\n",
              "    <path d=\"M120-120v-720h720v720H120Zm60-500h600v-160H180v160Zm220 220h160v-160H400v160Zm0 220h160v-160H400v160ZM180-400h160v-160H180v160Zm440 0h160v-160H620v160ZM180-180h160v-160H180v160Zm440 0h160v-160H620v160Z\"/>\n",
              "  </svg>\n",
              "    </button>\n",
              "\n",
              "  <style>\n",
              "    .colab-df-container {\n",
              "      display:flex;\n",
              "      gap: 12px;\n",
              "    }\n",
              "\n",
              "    .colab-df-convert {\n",
              "      background-color: #E8F0FE;\n",
              "      border: none;\n",
              "      border-radius: 50%;\n",
              "      cursor: pointer;\n",
              "      display: none;\n",
              "      fill: #1967D2;\n",
              "      height: 32px;\n",
              "      padding: 0 0 0 0;\n",
              "      width: 32px;\n",
              "    }\n",
              "\n",
              "    .colab-df-convert:hover {\n",
              "      background-color: #E2EBFA;\n",
              "      box-shadow: 0px 1px 2px rgba(60, 64, 67, 0.3), 0px 1px 3px 1px rgba(60, 64, 67, 0.15);\n",
              "      fill: #174EA6;\n",
              "    }\n",
              "\n",
              "    .colab-df-buttons div {\n",
              "      margin-bottom: 4px;\n",
              "    }\n",
              "\n",
              "    [theme=dark] .colab-df-convert {\n",
              "      background-color: #3B4455;\n",
              "      fill: #D2E3FC;\n",
              "    }\n",
              "\n",
              "    [theme=dark] .colab-df-convert:hover {\n",
              "      background-color: #434B5C;\n",
              "      box-shadow: 0px 1px 3px 1px rgba(0, 0, 0, 0.15);\n",
              "      filter: drop-shadow(0px 1px 2px rgba(0, 0, 0, 0.3));\n",
              "      fill: #FFFFFF;\n",
              "    }\n",
              "  </style>\n",
              "\n",
              "    <script>\n",
              "      const buttonEl =\n",
              "        document.querySelector('#df-203967cf-8484-45a2-9644-be42d4157e58 button.colab-df-convert');\n",
              "      buttonEl.style.display =\n",
              "        google.colab.kernel.accessAllowed ? 'block' : 'none';\n",
              "\n",
              "      async function convertToInteractive(key) {\n",
              "        const element = document.querySelector('#df-203967cf-8484-45a2-9644-be42d4157e58');\n",
              "        const dataTable =\n",
              "          await google.colab.kernel.invokeFunction('convertToInteractive',\n",
              "                                                    [key], {});\n",
              "        if (!dataTable) return;\n",
              "\n",
              "        const docLinkHtml = 'Like what you see? Visit the ' +\n",
              "          '<a target=\"_blank\" href=https://colab.research.google.com/notebooks/data_table.ipynb>data table notebook</a>'\n",
              "          + ' to learn more about interactive tables.';\n",
              "        element.innerHTML = '';\n",
              "        dataTable['output_type'] = 'display_data';\n",
              "        await google.colab.output.renderOutput(dataTable, element);\n",
              "        const docLink = document.createElement('div');\n",
              "        docLink.innerHTML = docLinkHtml;\n",
              "        element.appendChild(docLink);\n",
              "      }\n",
              "    </script>\n",
              "  </div>\n",
              "\n",
              "\n",
              "<div id=\"df-5f70ac9f-f417-41ac-b25d-ce314155f102\">\n",
              "  <button class=\"colab-df-quickchart\" onclick=\"quickchart('df-5f70ac9f-f417-41ac-b25d-ce314155f102')\"\n",
              "            title=\"Suggest charts\"\n",
              "            style=\"display:none;\">\n",
              "\n",
              "<svg xmlns=\"http://www.w3.org/2000/svg\" height=\"24px\"viewBox=\"0 0 24 24\"\n",
              "     width=\"24px\">\n",
              "    <g>\n",
              "        <path d=\"M19 3H5c-1.1 0-2 .9-2 2v14c0 1.1.9 2 2 2h14c1.1 0 2-.9 2-2V5c0-1.1-.9-2-2-2zM9 17H7v-7h2v7zm4 0h-2V7h2v10zm4 0h-2v-4h2v4z\"/>\n",
              "    </g>\n",
              "</svg>\n",
              "  </button>\n",
              "\n",
              "<style>\n",
              "  .colab-df-quickchart {\n",
              "      --bg-color: #E8F0FE;\n",
              "      --fill-color: #1967D2;\n",
              "      --hover-bg-color: #E2EBFA;\n",
              "      --hover-fill-color: #174EA6;\n",
              "      --disabled-fill-color: #AAA;\n",
              "      --disabled-bg-color: #DDD;\n",
              "  }\n",
              "\n",
              "  [theme=dark] .colab-df-quickchart {\n",
              "      --bg-color: #3B4455;\n",
              "      --fill-color: #D2E3FC;\n",
              "      --hover-bg-color: #434B5C;\n",
              "      --hover-fill-color: #FFFFFF;\n",
              "      --disabled-bg-color: #3B4455;\n",
              "      --disabled-fill-color: #666;\n",
              "  }\n",
              "\n",
              "  .colab-df-quickchart {\n",
              "    background-color: var(--bg-color);\n",
              "    border: none;\n",
              "    border-radius: 50%;\n",
              "    cursor: pointer;\n",
              "    display: none;\n",
              "    fill: var(--fill-color);\n",
              "    height: 32px;\n",
              "    padding: 0;\n",
              "    width: 32px;\n",
              "  }\n",
              "\n",
              "  .colab-df-quickchart:hover {\n",
              "    background-color: var(--hover-bg-color);\n",
              "    box-shadow: 0 1px 2px rgba(60, 64, 67, 0.3), 0 1px 3px 1px rgba(60, 64, 67, 0.15);\n",
              "    fill: var(--button-hover-fill-color);\n",
              "  }\n",
              "\n",
              "  .colab-df-quickchart-complete:disabled,\n",
              "  .colab-df-quickchart-complete:disabled:hover {\n",
              "    background-color: var(--disabled-bg-color);\n",
              "    fill: var(--disabled-fill-color);\n",
              "    box-shadow: none;\n",
              "  }\n",
              "\n",
              "  .colab-df-spinner {\n",
              "    border: 2px solid var(--fill-color);\n",
              "    border-color: transparent;\n",
              "    border-bottom-color: var(--fill-color);\n",
              "    animation:\n",
              "      spin 1s steps(1) infinite;\n",
              "  }\n",
              "\n",
              "  @keyframes spin {\n",
              "    0% {\n",
              "      border-color: transparent;\n",
              "      border-bottom-color: var(--fill-color);\n",
              "      border-left-color: var(--fill-color);\n",
              "    }\n",
              "    20% {\n",
              "      border-color: transparent;\n",
              "      border-left-color: var(--fill-color);\n",
              "      border-top-color: var(--fill-color);\n",
              "    }\n",
              "    30% {\n",
              "      border-color: transparent;\n",
              "      border-left-color: var(--fill-color);\n",
              "      border-top-color: var(--fill-color);\n",
              "      border-right-color: var(--fill-color);\n",
              "    }\n",
              "    40% {\n",
              "      border-color: transparent;\n",
              "      border-right-color: var(--fill-color);\n",
              "      border-top-color: var(--fill-color);\n",
              "    }\n",
              "    60% {\n",
              "      border-color: transparent;\n",
              "      border-right-color: var(--fill-color);\n",
              "    }\n",
              "    80% {\n",
              "      border-color: transparent;\n",
              "      border-right-color: var(--fill-color);\n",
              "      border-bottom-color: var(--fill-color);\n",
              "    }\n",
              "    90% {\n",
              "      border-color: transparent;\n",
              "      border-bottom-color: var(--fill-color);\n",
              "    }\n",
              "  }\n",
              "</style>\n",
              "\n",
              "  <script>\n",
              "    async function quickchart(key) {\n",
              "      const quickchartButtonEl =\n",
              "        document.querySelector('#' + key + ' button');\n",
              "      quickchartButtonEl.disabled = true;  // To prevent multiple clicks.\n",
              "      quickchartButtonEl.classList.add('colab-df-spinner');\n",
              "      try {\n",
              "        const charts = await google.colab.kernel.invokeFunction(\n",
              "            'suggestCharts', [key], {});\n",
              "      } catch (error) {\n",
              "        console.error('Error during call to suggestCharts:', error);\n",
              "      }\n",
              "      quickchartButtonEl.classList.remove('colab-df-spinner');\n",
              "      quickchartButtonEl.classList.add('colab-df-quickchart-complete');\n",
              "    }\n",
              "    (() => {\n",
              "      let quickchartButtonEl =\n",
              "        document.querySelector('#df-5f70ac9f-f417-41ac-b25d-ce314155f102 button');\n",
              "      quickchartButtonEl.style.display =\n",
              "        google.colab.kernel.accessAllowed ? 'block' : 'none';\n",
              "    })();\n",
              "  </script>\n",
              "</div>\n",
              "\n",
              "    </div>\n",
              "  </div>\n"
            ],
            "application/vnd.google.colaboratory.intrinsic+json": {
              "type": "dataframe",
              "variable_name": "df"
            }
          },
          "metadata": {},
          "execution_count": 54
        }
      ]
    },
    {
      "cell_type": "markdown",
      "source": [
        "Looking at just the first five rows, we can already see some features that are notable. First, some features appear to provide little information, such as Unnamed:0 and track_id. Other features, such as album_name and artists won't be very helpful in their own column, so we may need to one-hot encode them or remove them. Finally some numerical features may need to be binned. For example, the exact value of the tempo is less important than whether it is a fast or slow song."
      ],
      "metadata": {
        "id": "Xftps6oT3zjo"
      }
    },
    {
      "cell_type": "markdown",
      "source": [
        "### Remove missing records and duplicate records."
      ],
      "metadata": {
        "id": "9pWNJC5A7HS6"
      }
    },
    {
      "cell_type": "code",
      "source": [
        "# Look for missing values\n",
        "df.isnull().sum()"
      ],
      "metadata": {
        "id": "pX-e_JEo74De",
        "colab": {
          "base_uri": "https://localhost:8080/"
        },
        "outputId": "ae39d680-ad2f-4c90-c11c-1cc6d3515fc4"
      },
      "execution_count": null,
      "outputs": [
        {
          "output_type": "execute_result",
          "data": {
            "text/plain": [
              "Unnamed: 0          0\n",
              "track_id            0\n",
              "artists             1\n",
              "album_name          1\n",
              "track_name          1\n",
              "popularity          0\n",
              "duration_ms         0\n",
              "explicit            0\n",
              "danceability        0\n",
              "energy              0\n",
              "key                 0\n",
              "loudness            0\n",
              "mode                0\n",
              "speechiness         0\n",
              "acousticness        0\n",
              "instrumentalness    0\n",
              "liveness            0\n",
              "valence             0\n",
              "tempo               0\n",
              "time_signature      0\n",
              "track_genre         0\n",
              "dtype: int64"
            ]
          },
          "metadata": {},
          "execution_count": 55
        }
      ]
    },
    {
      "cell_type": "markdown",
      "source": [
        "It appears there aren't too many missing values, so we can simply drop them without affecting the quality of our dataset too much"
      ],
      "metadata": {
        "id": "d1nZKCp-41W_"
      }
    },
    {
      "cell_type": "code",
      "source": [
        "# Remove missing values\n",
        "df = df.dropna()"
      ],
      "metadata": {
        "id": "HxhTEq03jZ5w"
      },
      "execution_count": null,
      "outputs": []
    },
    {
      "cell_type": "markdown",
      "source": [
        "One thing we need to keep track of is duplicated songs. There are a couple of songs that have multiple entries in our dataset. We can identify these songs by the artist, track name, and the length of the song. We will keep the record with the highest popularity, since that best represents the height of the song's popularity."
      ],
      "metadata": {
        "id": "UtjajI3B5AJk"
      }
    },
    {
      "cell_type": "code",
      "source": [
        "# For duplicated songs, we will keep the record with the highest popularity value (to represent the best moment of the song)\n",
        "df = df.sort_values('popularity')\n",
        " # features that have to match for records to be considered duplicates\n",
        "duplicate_features = ['artists', 'track_name', 'duration_ms']\n",
        "# keep='last' ensures that the highest popularity value records is kept\n",
        "df = df.drop_duplicates(subset=duplicate_features, keep='last')\n",
        "df = df.sort_index()"
      ],
      "metadata": {
        "id": "f3jBmA7_7ZVP"
      },
      "execution_count": null,
      "outputs": []
    },
    {
      "cell_type": "code",
      "source": [
        "# Drop songs that have 0 or 1 time signature.\n",
        "# These seem to be an error in the data and this is just\n",
        "# a very small fraction of the data so we can afford it\n",
        "df = df[df['time_signature'] != 0]\n",
        "df = df[df['time_signature'] != 1]"
      ],
      "metadata": {
        "id": "VM6tRPKnj7Gf"
      },
      "execution_count": null,
      "outputs": []
    },
    {
      "cell_type": "code",
      "source": [
        "# Remove extra index column.\n",
        "df = df.drop(columns=['Unnamed: 0'])"
      ],
      "metadata": {
        "id": "FFAQOk-DmQoL"
      },
      "execution_count": null,
      "outputs": []
    },
    {
      "cell_type": "code",
      "source": [
        "# View number of records after removing missing and duplicate values.\n",
        "print(f'There are {len(df)} records in the dataset.')"
      ],
      "metadata": {
        "id": "Lx7ZPdM1jmad",
        "colab": {
          "base_uri": "https://localhost:8080/"
        },
        "outputId": "01f6a45f-25e9-4b2b-ac7d-ca35d1ff4ecc"
      },
      "execution_count": null,
      "outputs": [
        {
          "output_type": "stream",
          "name": "stdout",
          "text": [
            "There are 82135 records in the dataset.\n"
          ]
        }
      ]
    },
    {
      "cell_type": "markdown",
      "source": [
        "# Data Exploration"
      ],
      "metadata": {
        "id": "b2FuYV2CkL70"
      }
    },
    {
      "cell_type": "markdown",
      "source": [
        "### Ensure clean data."
      ],
      "metadata": {
        "id": "yfjzHm5TtgRm"
      }
    },
    {
      "cell_type": "code",
      "source": [
        "# Examine the dataset after cleaning.\n",
        "df.info()"
      ],
      "metadata": {
        "id": "ATfvFwW0kg5U",
        "colab": {
          "base_uri": "https://localhost:8080/"
        },
        "outputId": "7b233030-c79a-44f7-d734-1fe681db9467"
      },
      "execution_count": null,
      "outputs": [
        {
          "output_type": "stream",
          "name": "stdout",
          "text": [
            "<class 'pandas.core.frame.DataFrame'>\n",
            "Index: 82135 entries, 1 to 113999\n",
            "Data columns (total 20 columns):\n",
            " #   Column            Non-Null Count  Dtype  \n",
            "---  ------            --------------  -----  \n",
            " 0   track_id          82135 non-null  object \n",
            " 1   artists           82135 non-null  object \n",
            " 2   album_name        82135 non-null  object \n",
            " 3   track_name        82135 non-null  object \n",
            " 4   popularity        82135 non-null  int64  \n",
            " 5   duration_ms       82135 non-null  int64  \n",
            " 6   explicit          82135 non-null  bool   \n",
            " 7   danceability      82135 non-null  float64\n",
            " 8   energy            82135 non-null  float64\n",
            " 9   key               82135 non-null  int64  \n",
            " 10  loudness          82135 non-null  float64\n",
            " 11  mode              82135 non-null  int64  \n",
            " 12  speechiness       82135 non-null  float64\n",
            " 13  acousticness      82135 non-null  float64\n",
            " 14  instrumentalness  82135 non-null  float64\n",
            " 15  liveness          82135 non-null  float64\n",
            " 16  valence           82135 non-null  float64\n",
            " 17  tempo             82135 non-null  float64\n",
            " 18  time_signature    82135 non-null  int64  \n",
            " 19  track_genre       82135 non-null  object \n",
            "dtypes: bool(1), float64(9), int64(5), object(5)\n",
            "memory usage: 12.6+ MB\n"
          ]
        }
      ]
    },
    {
      "cell_type": "markdown",
      "source": [
        "To begin our data exploration, we should first look at the numerical features. This will tell us if there are any significant outliers or if there are any features we need to feature engineer on to better improve our model's performance"
      ],
      "metadata": {
        "id": "xoSXhcOV5TBU"
      }
    },
    {
      "cell_type": "code",
      "source": [
        "# Analyze the descriptive statistics for the features and label.\n",
        "numerical_data = df[df.columns[(df.dtypes == 'int64') | (df.dtypes == 'float64')]]\n",
        "numerical_data.describe()"
      ],
      "metadata": {
        "id": "s9vmH0DylpcZ",
        "colab": {
          "base_uri": "https://localhost:8080/"
        },
        "outputId": "762768b6-1823-46be-d660-dab7fda0b43a"
      },
      "execution_count": null,
      "outputs": [
        {
          "output_type": "execute_result",
          "data": {
            "text/plain": [
              "         popularity   duration_ms  danceability        energy           key  \\\n",
              "count  82135.000000  8.213500e+04  82135.000000  82135.000000  82135.000000   \n",
              "mean      35.162769  2.316073e+05      0.561855      0.637341      5.287247   \n",
              "std       19.512167  1.143806e+05      0.175209      0.256471      3.557698   \n",
              "min        0.000000  1.580000e+04      0.051300      0.000020      0.000000   \n",
              "25%       21.000000  1.743450e+05      0.449000      0.459000      2.000000   \n",
              "50%       35.000000  2.155270e+05      0.575000      0.680000      5.000000   \n",
              "75%       50.000000  2.672020e+05      0.691000      0.857000      8.000000   \n",
              "max      100.000000  5.237295e+06      0.985000      1.000000     11.000000   \n",
              "\n",
              "           loudness          mode   speechiness  acousticness  \\\n",
              "count  82135.000000  82135.000000  82135.000000  82135.000000   \n",
              "mean      -8.518189      0.633506      0.088219      0.327124   \n",
              "std        5.188480      0.481850      0.114166      0.338398   \n",
              "min      -46.591000      0.000000      0.022100      0.000000   \n",
              "25%      -10.382500      0.000000      0.036100      0.015900   \n",
              "50%       -7.233000      1.000000      0.049100      0.188000   \n",
              "75%       -5.127000      1.000000      0.086600      0.624000   \n",
              "max        4.532000      1.000000      0.965000      0.996000   \n",
              "\n",
              "       instrumentalness      liveness       valence         tempo  \\\n",
              "count      82135.000000  82135.000000  82135.000000  82135.000000   \n",
              "mean           0.180293      0.218681      0.467209    122.476144   \n",
              "std            0.328210      0.196745      0.262638     29.658718   \n",
              "min            0.000000      0.009250      0.000000     30.200000   \n",
              "25%            0.000000      0.098400      0.247000     99.901000   \n",
              "50%            0.000079      0.133000      0.454000    122.153000   \n",
              "75%            0.130000      0.282000      0.680000    140.221000   \n",
              "max            1.000000      1.000000      0.995000    243.372000   \n",
              "\n",
              "       time_signature  \n",
              "count    82135.000000  \n",
              "mean         3.932160  \n",
              "std          0.316085  \n",
              "min          3.000000  \n",
              "25%          4.000000  \n",
              "50%          4.000000  \n",
              "75%          4.000000  \n",
              "max          5.000000  "
            ],
            "text/html": [
              "\n",
              "  <div id=\"df-c9d7ed0d-3f51-420e-9f81-cc562d681152\" class=\"colab-df-container\">\n",
              "    <div>\n",
              "<style scoped>\n",
              "    .dataframe tbody tr th:only-of-type {\n",
              "        vertical-align: middle;\n",
              "    }\n",
              "\n",
              "    .dataframe tbody tr th {\n",
              "        vertical-align: top;\n",
              "    }\n",
              "\n",
              "    .dataframe thead th {\n",
              "        text-align: right;\n",
              "    }\n",
              "</style>\n",
              "<table border=\"1\" class=\"dataframe\">\n",
              "  <thead>\n",
              "    <tr style=\"text-align: right;\">\n",
              "      <th></th>\n",
              "      <th>popularity</th>\n",
              "      <th>duration_ms</th>\n",
              "      <th>danceability</th>\n",
              "      <th>energy</th>\n",
              "      <th>key</th>\n",
              "      <th>loudness</th>\n",
              "      <th>mode</th>\n",
              "      <th>speechiness</th>\n",
              "      <th>acousticness</th>\n",
              "      <th>instrumentalness</th>\n",
              "      <th>liveness</th>\n",
              "      <th>valence</th>\n",
              "      <th>tempo</th>\n",
              "      <th>time_signature</th>\n",
              "    </tr>\n",
              "  </thead>\n",
              "  <tbody>\n",
              "    <tr>\n",
              "      <th>count</th>\n",
              "      <td>82135.000000</td>\n",
              "      <td>8.213500e+04</td>\n",
              "      <td>82135.000000</td>\n",
              "      <td>82135.000000</td>\n",
              "      <td>82135.000000</td>\n",
              "      <td>82135.000000</td>\n",
              "      <td>82135.000000</td>\n",
              "      <td>82135.000000</td>\n",
              "      <td>82135.000000</td>\n",
              "      <td>82135.000000</td>\n",
              "      <td>82135.000000</td>\n",
              "      <td>82135.000000</td>\n",
              "      <td>82135.000000</td>\n",
              "      <td>82135.000000</td>\n",
              "    </tr>\n",
              "    <tr>\n",
              "      <th>mean</th>\n",
              "      <td>35.162769</td>\n",
              "      <td>2.316073e+05</td>\n",
              "      <td>0.561855</td>\n",
              "      <td>0.637341</td>\n",
              "      <td>5.287247</td>\n",
              "      <td>-8.518189</td>\n",
              "      <td>0.633506</td>\n",
              "      <td>0.088219</td>\n",
              "      <td>0.327124</td>\n",
              "      <td>0.180293</td>\n",
              "      <td>0.218681</td>\n",
              "      <td>0.467209</td>\n",
              "      <td>122.476144</td>\n",
              "      <td>3.932160</td>\n",
              "    </tr>\n",
              "    <tr>\n",
              "      <th>std</th>\n",
              "      <td>19.512167</td>\n",
              "      <td>1.143806e+05</td>\n",
              "      <td>0.175209</td>\n",
              "      <td>0.256471</td>\n",
              "      <td>3.557698</td>\n",
              "      <td>5.188480</td>\n",
              "      <td>0.481850</td>\n",
              "      <td>0.114166</td>\n",
              "      <td>0.338398</td>\n",
              "      <td>0.328210</td>\n",
              "      <td>0.196745</td>\n",
              "      <td>0.262638</td>\n",
              "      <td>29.658718</td>\n",
              "      <td>0.316085</td>\n",
              "    </tr>\n",
              "    <tr>\n",
              "      <th>min</th>\n",
              "      <td>0.000000</td>\n",
              "      <td>1.580000e+04</td>\n",
              "      <td>0.051300</td>\n",
              "      <td>0.000020</td>\n",
              "      <td>0.000000</td>\n",
              "      <td>-46.591000</td>\n",
              "      <td>0.000000</td>\n",
              "      <td>0.022100</td>\n",
              "      <td>0.000000</td>\n",
              "      <td>0.000000</td>\n",
              "      <td>0.009250</td>\n",
              "      <td>0.000000</td>\n",
              "      <td>30.200000</td>\n",
              "      <td>3.000000</td>\n",
              "    </tr>\n",
              "    <tr>\n",
              "      <th>25%</th>\n",
              "      <td>21.000000</td>\n",
              "      <td>1.743450e+05</td>\n",
              "      <td>0.449000</td>\n",
              "      <td>0.459000</td>\n",
              "      <td>2.000000</td>\n",
              "      <td>-10.382500</td>\n",
              "      <td>0.000000</td>\n",
              "      <td>0.036100</td>\n",
              "      <td>0.015900</td>\n",
              "      <td>0.000000</td>\n",
              "      <td>0.098400</td>\n",
              "      <td>0.247000</td>\n",
              "      <td>99.901000</td>\n",
              "      <td>4.000000</td>\n",
              "    </tr>\n",
              "    <tr>\n",
              "      <th>50%</th>\n",
              "      <td>35.000000</td>\n",
              "      <td>2.155270e+05</td>\n",
              "      <td>0.575000</td>\n",
              "      <td>0.680000</td>\n",
              "      <td>5.000000</td>\n",
              "      <td>-7.233000</td>\n",
              "      <td>1.000000</td>\n",
              "      <td>0.049100</td>\n",
              "      <td>0.188000</td>\n",
              "      <td>0.000079</td>\n",
              "      <td>0.133000</td>\n",
              "      <td>0.454000</td>\n",
              "      <td>122.153000</td>\n",
              "      <td>4.000000</td>\n",
              "    </tr>\n",
              "    <tr>\n",
              "      <th>75%</th>\n",
              "      <td>50.000000</td>\n",
              "      <td>2.672020e+05</td>\n",
              "      <td>0.691000</td>\n",
              "      <td>0.857000</td>\n",
              "      <td>8.000000</td>\n",
              "      <td>-5.127000</td>\n",
              "      <td>1.000000</td>\n",
              "      <td>0.086600</td>\n",
              "      <td>0.624000</td>\n",
              "      <td>0.130000</td>\n",
              "      <td>0.282000</td>\n",
              "      <td>0.680000</td>\n",
              "      <td>140.221000</td>\n",
              "      <td>4.000000</td>\n",
              "    </tr>\n",
              "    <tr>\n",
              "      <th>max</th>\n",
              "      <td>100.000000</td>\n",
              "      <td>5.237295e+06</td>\n",
              "      <td>0.985000</td>\n",
              "      <td>1.000000</td>\n",
              "      <td>11.000000</td>\n",
              "      <td>4.532000</td>\n",
              "      <td>1.000000</td>\n",
              "      <td>0.965000</td>\n",
              "      <td>0.996000</td>\n",
              "      <td>1.000000</td>\n",
              "      <td>1.000000</td>\n",
              "      <td>0.995000</td>\n",
              "      <td>243.372000</td>\n",
              "      <td>5.000000</td>\n",
              "    </tr>\n",
              "  </tbody>\n",
              "</table>\n",
              "</div>\n",
              "    <div class=\"colab-df-buttons\">\n",
              "\n",
              "  <div class=\"colab-df-container\">\n",
              "    <button class=\"colab-df-convert\" onclick=\"convertToInteractive('df-c9d7ed0d-3f51-420e-9f81-cc562d681152')\"\n",
              "            title=\"Convert this dataframe to an interactive table.\"\n",
              "            style=\"display:none;\">\n",
              "\n",
              "  <svg xmlns=\"http://www.w3.org/2000/svg\" height=\"24px\" viewBox=\"0 -960 960 960\">\n",
              "    <path d=\"M120-120v-720h720v720H120Zm60-500h600v-160H180v160Zm220 220h160v-160H400v160Zm0 220h160v-160H400v160ZM180-400h160v-160H180v160Zm440 0h160v-160H620v160ZM180-180h160v-160H180v160Zm440 0h160v-160H620v160Z\"/>\n",
              "  </svg>\n",
              "    </button>\n",
              "\n",
              "  <style>\n",
              "    .colab-df-container {\n",
              "      display:flex;\n",
              "      gap: 12px;\n",
              "    }\n",
              "\n",
              "    .colab-df-convert {\n",
              "      background-color: #E8F0FE;\n",
              "      border: none;\n",
              "      border-radius: 50%;\n",
              "      cursor: pointer;\n",
              "      display: none;\n",
              "      fill: #1967D2;\n",
              "      height: 32px;\n",
              "      padding: 0 0 0 0;\n",
              "      width: 32px;\n",
              "    }\n",
              "\n",
              "    .colab-df-convert:hover {\n",
              "      background-color: #E2EBFA;\n",
              "      box-shadow: 0px 1px 2px rgba(60, 64, 67, 0.3), 0px 1px 3px 1px rgba(60, 64, 67, 0.15);\n",
              "      fill: #174EA6;\n",
              "    }\n",
              "\n",
              "    .colab-df-buttons div {\n",
              "      margin-bottom: 4px;\n",
              "    }\n",
              "\n",
              "    [theme=dark] .colab-df-convert {\n",
              "      background-color: #3B4455;\n",
              "      fill: #D2E3FC;\n",
              "    }\n",
              "\n",
              "    [theme=dark] .colab-df-convert:hover {\n",
              "      background-color: #434B5C;\n",
              "      box-shadow: 0px 1px 3px 1px rgba(0, 0, 0, 0.15);\n",
              "      filter: drop-shadow(0px 1px 2px rgba(0, 0, 0, 0.3));\n",
              "      fill: #FFFFFF;\n",
              "    }\n",
              "  </style>\n",
              "\n",
              "    <script>\n",
              "      const buttonEl =\n",
              "        document.querySelector('#df-c9d7ed0d-3f51-420e-9f81-cc562d681152 button.colab-df-convert');\n",
              "      buttonEl.style.display =\n",
              "        google.colab.kernel.accessAllowed ? 'block' : 'none';\n",
              "\n",
              "      async function convertToInteractive(key) {\n",
              "        const element = document.querySelector('#df-c9d7ed0d-3f51-420e-9f81-cc562d681152');\n",
              "        const dataTable =\n",
              "          await google.colab.kernel.invokeFunction('convertToInteractive',\n",
              "                                                    [key], {});\n",
              "        if (!dataTable) return;\n",
              "\n",
              "        const docLinkHtml = 'Like what you see? Visit the ' +\n",
              "          '<a target=\"_blank\" href=https://colab.research.google.com/notebooks/data_table.ipynb>data table notebook</a>'\n",
              "          + ' to learn more about interactive tables.';\n",
              "        element.innerHTML = '';\n",
              "        dataTable['output_type'] = 'display_data';\n",
              "        await google.colab.output.renderOutput(dataTable, element);\n",
              "        const docLink = document.createElement('div');\n",
              "        docLink.innerHTML = docLinkHtml;\n",
              "        element.appendChild(docLink);\n",
              "      }\n",
              "    </script>\n",
              "  </div>\n",
              "\n",
              "\n",
              "<div id=\"df-75066bbd-1184-4a80-b2ca-924d408d4983\">\n",
              "  <button class=\"colab-df-quickchart\" onclick=\"quickchart('df-75066bbd-1184-4a80-b2ca-924d408d4983')\"\n",
              "            title=\"Suggest charts\"\n",
              "            style=\"display:none;\">\n",
              "\n",
              "<svg xmlns=\"http://www.w3.org/2000/svg\" height=\"24px\"viewBox=\"0 0 24 24\"\n",
              "     width=\"24px\">\n",
              "    <g>\n",
              "        <path d=\"M19 3H5c-1.1 0-2 .9-2 2v14c0 1.1.9 2 2 2h14c1.1 0 2-.9 2-2V5c0-1.1-.9-2-2-2zM9 17H7v-7h2v7zm4 0h-2V7h2v10zm4 0h-2v-4h2v4z\"/>\n",
              "    </g>\n",
              "</svg>\n",
              "  </button>\n",
              "\n",
              "<style>\n",
              "  .colab-df-quickchart {\n",
              "      --bg-color: #E8F0FE;\n",
              "      --fill-color: #1967D2;\n",
              "      --hover-bg-color: #E2EBFA;\n",
              "      --hover-fill-color: #174EA6;\n",
              "      --disabled-fill-color: #AAA;\n",
              "      --disabled-bg-color: #DDD;\n",
              "  }\n",
              "\n",
              "  [theme=dark] .colab-df-quickchart {\n",
              "      --bg-color: #3B4455;\n",
              "      --fill-color: #D2E3FC;\n",
              "      --hover-bg-color: #434B5C;\n",
              "      --hover-fill-color: #FFFFFF;\n",
              "      --disabled-bg-color: #3B4455;\n",
              "      --disabled-fill-color: #666;\n",
              "  }\n",
              "\n",
              "  .colab-df-quickchart {\n",
              "    background-color: var(--bg-color);\n",
              "    border: none;\n",
              "    border-radius: 50%;\n",
              "    cursor: pointer;\n",
              "    display: none;\n",
              "    fill: var(--fill-color);\n",
              "    height: 32px;\n",
              "    padding: 0;\n",
              "    width: 32px;\n",
              "  }\n",
              "\n",
              "  .colab-df-quickchart:hover {\n",
              "    background-color: var(--hover-bg-color);\n",
              "    box-shadow: 0 1px 2px rgba(60, 64, 67, 0.3), 0 1px 3px 1px rgba(60, 64, 67, 0.15);\n",
              "    fill: var(--button-hover-fill-color);\n",
              "  }\n",
              "\n",
              "  .colab-df-quickchart-complete:disabled,\n",
              "  .colab-df-quickchart-complete:disabled:hover {\n",
              "    background-color: var(--disabled-bg-color);\n",
              "    fill: var(--disabled-fill-color);\n",
              "    box-shadow: none;\n",
              "  }\n",
              "\n",
              "  .colab-df-spinner {\n",
              "    border: 2px solid var(--fill-color);\n",
              "    border-color: transparent;\n",
              "    border-bottom-color: var(--fill-color);\n",
              "    animation:\n",
              "      spin 1s steps(1) infinite;\n",
              "  }\n",
              "\n",
              "  @keyframes spin {\n",
              "    0% {\n",
              "      border-color: transparent;\n",
              "      border-bottom-color: var(--fill-color);\n",
              "      border-left-color: var(--fill-color);\n",
              "    }\n",
              "    20% {\n",
              "      border-color: transparent;\n",
              "      border-left-color: var(--fill-color);\n",
              "      border-top-color: var(--fill-color);\n",
              "    }\n",
              "    30% {\n",
              "      border-color: transparent;\n",
              "      border-left-color: var(--fill-color);\n",
              "      border-top-color: var(--fill-color);\n",
              "      border-right-color: var(--fill-color);\n",
              "    }\n",
              "    40% {\n",
              "      border-color: transparent;\n",
              "      border-right-color: var(--fill-color);\n",
              "      border-top-color: var(--fill-color);\n",
              "    }\n",
              "    60% {\n",
              "      border-color: transparent;\n",
              "      border-right-color: var(--fill-color);\n",
              "    }\n",
              "    80% {\n",
              "      border-color: transparent;\n",
              "      border-right-color: var(--fill-color);\n",
              "      border-bottom-color: var(--fill-color);\n",
              "    }\n",
              "    90% {\n",
              "      border-color: transparent;\n",
              "      border-bottom-color: var(--fill-color);\n",
              "    }\n",
              "  }\n",
              "</style>\n",
              "\n",
              "  <script>\n",
              "    async function quickchart(key) {\n",
              "      const quickchartButtonEl =\n",
              "        document.querySelector('#' + key + ' button');\n",
              "      quickchartButtonEl.disabled = true;  // To prevent multiple clicks.\n",
              "      quickchartButtonEl.classList.add('colab-df-spinner');\n",
              "      try {\n",
              "        const charts = await google.colab.kernel.invokeFunction(\n",
              "            'suggestCharts', [key], {});\n",
              "      } catch (error) {\n",
              "        console.error('Error during call to suggestCharts:', error);\n",
              "      }\n",
              "      quickchartButtonEl.classList.remove('colab-df-spinner');\n",
              "      quickchartButtonEl.classList.add('colab-df-quickchart-complete');\n",
              "    }\n",
              "    (() => {\n",
              "      let quickchartButtonEl =\n",
              "        document.querySelector('#df-75066bbd-1184-4a80-b2ca-924d408d4983 button');\n",
              "      quickchartButtonEl.style.display =\n",
              "        google.colab.kernel.accessAllowed ? 'block' : 'none';\n",
              "    })();\n",
              "  </script>\n",
              "</div>\n",
              "\n",
              "    </div>\n",
              "  </div>\n"
            ],
            "application/vnd.google.colaboratory.intrinsic+json": {
              "type": "dataframe",
              "summary": "{\n  \"name\": \"numerical_data\",\n  \"rows\": 8,\n  \"fields\": [\n    {\n      \"column\": \"popularity\",\n      \"properties\": {\n        \"dtype\": \"number\",\n        \"std\": 29025.956615552113,\n        \"min\": 0.0,\n        \"max\": 82135.0,\n        \"num_unique_values\": 8,\n        \"samples\": [\n          35.162768612649906,\n          35.0,\n          82135.0\n        ],\n        \"semantic_type\": \"\",\n        \"description\": \"\"\n      }\n    },\n    {\n      \"column\": \"duration_ms\",\n      \"properties\": {\n        \"dtype\": \"number\",\n        \"std\": 1797994.1853260025,\n        \"min\": 15800.0,\n        \"max\": 5237295.0,\n        \"num_unique_values\": 8,\n        \"samples\": [\n          231607.25367991722,\n          215527.0,\n          82135.0\n        ],\n        \"semantic_type\": \"\",\n        \"description\": \"\"\n      }\n    },\n    {\n      \"column\": \"danceability\",\n      \"properties\": {\n        \"dtype\": \"number\",\n        \"std\": 29038.931548833527,\n        \"min\": 0.0513,\n        \"max\": 82135.0,\n        \"num_unique_values\": 8,\n        \"samples\": [\n          0.561854683143605,\n          0.575,\n          82135.0\n        ],\n        \"semantic_type\": \"\",\n        \"description\": \"\"\n      }\n    },\n    {\n      \"column\": \"energy\",\n      \"properties\": {\n        \"dtype\": \"number\",\n        \"std\": 29038.911271954352,\n        \"min\": 2.02e-05,\n        \"max\": 82135.0,\n        \"num_unique_values\": 8,\n        \"samples\": [\n          0.6373412000633104,\n          0.68,\n          82135.0\n        ],\n        \"semantic_type\": \"\",\n        \"description\": \"\"\n      }\n    },\n    {\n      \"column\": \"key\",\n      \"properties\": {\n        \"dtype\": \"number\",\n        \"std\": 29037.348000523278,\n        \"min\": 0.0,\n        \"max\": 82135.0,\n        \"num_unique_values\": 8,\n        \"samples\": [\n          5.287246606197114,\n          5.0,\n          82135.0\n        ],\n        \"semantic_type\": \"\",\n        \"description\": \"\"\n      }\n    },\n    {\n      \"column\": \"loudness\",\n      \"properties\": {\n        \"dtype\": \"number\",\n        \"std\": 29042.5533435779,\n        \"min\": -46.591,\n        \"max\": 82135.0,\n        \"num_unique_values\": 8,\n        \"samples\": [\n          -8.518188969379679,\n          -7.233,\n          82135.0\n        ],\n        \"semantic_type\": \"\",\n        \"description\": \"\"\n      }\n    },\n    {\n      \"column\": \"mode\",\n      \"properties\": {\n        \"dtype\": \"number\",\n        \"std\": 29038.899882528345,\n        \"min\": 0.0,\n        \"max\": 82135.0,\n        \"num_unique_values\": 5,\n        \"samples\": [\n          0.6335058135995617,\n          1.0,\n          0.4818495870422258\n        ],\n        \"semantic_type\": \"\",\n        \"description\": \"\"\n      }\n    },\n    {\n      \"column\": \"speechiness\",\n      \"properties\": {\n        \"dtype\": \"number\",\n        \"std\": 29039.038982847153,\n        \"min\": 0.0221,\n        \"max\": 82135.0,\n        \"num_unique_values\": 8,\n        \"samples\": [\n          0.08821889572046021,\n          0.0491,\n          82135.0\n        ],\n        \"semantic_type\": \"\",\n        \"description\": \"\"\n      }\n    },\n    {\n      \"column\": \"acousticness\",\n      \"properties\": {\n        \"dtype\": \"number\",\n        \"std\": 29038.982003419722,\n        \"min\": 0.0,\n        \"max\": 82135.0,\n        \"num_unique_values\": 8,\n        \"samples\": [\n          0.32712414378864063,\n          0.188,\n          82135.0\n        ],\n        \"semantic_type\": \"\",\n        \"description\": \"\"\n      }\n    },\n    {\n      \"column\": \"instrumentalness\",\n      \"properties\": {\n        \"dtype\": \"number\",\n        \"std\": 29039.02497732706,\n        \"min\": 0.0,\n        \"max\": 82135.0,\n        \"num_unique_values\": 7,\n        \"samples\": [\n          82135.0,\n          0.18029338827880928,\n          0.13\n        ],\n        \"semantic_type\": \"\",\n        \"description\": \"\"\n      }\n    },\n    {\n      \"column\": \"liveness\",\n      \"properties\": {\n        \"dtype\": \"number\",\n        \"std\": 29039.00985040679,\n        \"min\": 0.00925,\n        \"max\": 82135.0,\n        \"num_unique_values\": 8,\n        \"samples\": [\n          0.21868074401899315,\n          0.133,\n          82135.0\n        ],\n        \"semantic_type\": \"\",\n        \"description\": \"\"\n      }\n    },\n    {\n      \"column\": \"valence\",\n      \"properties\": {\n        \"dtype\": \"number\",\n        \"std\": 29038.95086896871,\n        \"min\": 0.0,\n        \"max\": 82135.0,\n        \"num_unique_values\": 8,\n        \"samples\": [\n          0.46720911062275516,\n          0.454,\n          82135.0\n        ],\n        \"semantic_type\": \"\",\n        \"description\": \"\"\n      }\n    },\n    {\n      \"column\": \"tempo\",\n      \"properties\": {\n        \"dtype\": \"number\",\n        \"std\": 28999.387174314812,\n        \"min\": 29.658718074563634,\n        \"max\": 82135.0,\n        \"num_unique_values\": 8,\n        \"samples\": [\n          122.47614384854201,\n          122.153,\n          82135.0\n        ],\n        \"semantic_type\": \"\",\n        \"description\": \"\"\n      }\n    },\n    {\n      \"column\": \"time_signature\",\n      \"properties\": {\n        \"dtype\": \"number\",\n        \"std\": 29037.88304839109,\n        \"min\": 0.316085242459406,\n        \"max\": 82135.0,\n        \"num_unique_values\": 6,\n        \"samples\": [\n          82135.0,\n          3.9321604675229804,\n          5.0\n        ],\n        \"semantic_type\": \"\",\n        \"description\": \"\"\n      }\n    }\n  ]\n}"
            }
          },
          "metadata": {},
          "execution_count": 62
        }
      ]
    },
    {
      "cell_type": "markdown",
      "source": [
        "As show above, it appears most of the features are on a scale from 0 to 1, which is nice since we don't need to normalize the data. However, looking at the numbers doesn't tell us much, so visualizations can help us better understand the distributions of the features."
      ],
      "metadata": {
        "id": "LKVouhN-5clT"
      }
    },
    {
      "cell_type": "markdown",
      "source": [
        "### Perform univariate analysis of the label and features."
      ],
      "metadata": {
        "id": "q85JXoc4k2Ha"
      }
    },
    {
      "cell_type": "markdown",
      "source": [
        "First, we will want to explore the data of the labels. We will first graph the frequency of the popularity of the songs in a histogram. This will tell us whether or not the data is normally distributed or if it is significantly left or right skewed. It can also tell us if there are any outliers."
      ],
      "metadata": {
        "id": "zlnjmjSj5seO"
      }
    },
    {
      "cell_type": "code",
      "source": [
        "# Analyze the distribution of the label.\n",
        "plt.hist(numerical_data['popularity'], bins=30, edgecolor='black')\n",
        "plt.title('Histogram of Song Popularity')\n",
        "plt.xlabel('Popularity')\n",
        "plt.ylabel('Frequency')\n",
        "plt.show()"
      ],
      "metadata": {
        "id": "W3wAAzSpkqmA",
        "colab": {
          "base_uri": "https://localhost:8080/"
        },
        "outputId": "6f22fdd4-e625-4bb6-a23d-fa472eb553d3"
      },
      "execution_count": null,
      "outputs": [
        {
          "output_type": "display_data",
          "data": {
            "text/plain": [
              "<Figure size 500x500 with 1 Axes>"
            ],
            "image/png": "[encoded data removed]"
          },
          "metadata": {}
        }
      ]
    },
    {
      "cell_type": "markdown",
      "source": [
        "As shown above, the data is relatively normally distributed with a mean around 38. There are a couple of things that we can note here. First, while we can use regression models to predict the true popularity of a song, we can also categorize a song as either \"popular\" or \"unpopular\" based on a threshold. It allears that there are a lot of songs that have 0 popularity, 20 popularity and 40 popularity. Songs past this point could be considered \"popular\" so a threshold of 50 in categorical modeling may be appropriate in this instance.\n",
        "\n",
        "Second, there a quite a few spikes at the lower end of this histogram. While this could indicate errors in the data, we believe this actually confirms the validity of the dataset. There are a lot of songs that simply have zero popularity. As of 2024, there are over 100 million songs on Spotify, and only a fraction of them will have any popularity at all. The spikes at 20 and 40 can be explained as songs that are popular within a niche community, but don't enjoy widespread fame across different populations. This may include songs in a certain geographic region or simply a less popular genre."
      ],
      "metadata": {
        "id": "QP9H6nEQ58le"
      }
    },
    {
      "cell_type": "markdown",
      "source": [
        "Looking at the distribution of the numerical features can tell us two things. First, features that are scaled differently may lead to algorithms that weigh features differently. Second, if the distribution is left or right skewed, it may be easier to understand outliers if the data is normalized."
      ],
      "metadata": {
        "id": "5HsGSXGJpNHZ"
      }
    },
    {
      "cell_type": "code",
      "source": [
        "# Analyze distribution of features.\n",
        "numerical_data.hist(figsize=(20,15), bins=30, xlabelsize=8, ylabelsize=8)\n",
        "plt.tight_layout()\n",
        "plt.show()"
      ],
      "metadata": {
        "id": "MDqvI0s9nuAW",
        "colab": {
          "base_uri": "https://localhost:8080/"
        },
        "outputId": "b257579f-0729-4d10-dd40-61963f30098f"
      },
      "execution_count": null,
      "outputs": [
        {
          "output_type": "display_data",
          "data": {
            "text/plain": [
              "<Figure size 2000x1500 with 16 Axes>"
            ],
            "image/png": "[encoded data removed]"
          },
          "metadata": {}
        }
      ]
    },
    {
      "cell_type": "markdown",
      "source": [
        "Looking at our data we come to two conclusions\n",
        "\n",
        "1. Luckily, it seems most of the features in the dataset are scaled from 0 to 1, so distance metrics won't weigh one feature over another (generally)\n",
        "\n",
        "2. It seems there aren't many normalized features in this dataset outside of danceability and maybe tempo, so normalizing some of the features may improve model performance.\n",
        "\n",
        "Whether or not we decide to normalize the features, the fact that they are generally scaled similarly from 0 to 1 is helpful since distance metrics won't weigh one feature over another."
      ],
      "metadata": {
        "id": "tGrGhfijpKC1"
      }
    },
    {
      "cell_type": "markdown",
      "source": [
        "### Perform bivariate analysis."
      ],
      "metadata": {
        "id": "aHRxgd4tqeKG"
      }
    },
    {
      "cell_type": "markdown",
      "source": [
        "While looking at individual features is certainly interesting, bivariate analysis can help us better understand how features are related to one another. To begin, we can look at the correlation matrix between numerical features within our dataset."
      ],
      "metadata": {
        "id": "9A3HrGS_7KGc"
      }
    },
    {
      "cell_type": "code",
      "source": [
        "# Correlation matrix between features.\n",
        "print(numerical_data.corr())"
      ],
      "metadata": {
        "id": "dGUmWlj4qtI_",
        "colab": {
          "base_uri": "https://localhost:8080/"
        },
        "outputId": "5943a9b2-e5c2-4f58-c6c1-bc8d6eb5f57c"
      },
      "execution_count": null,
      "outputs": [
        {
          "output_type": "stream",
          "name": "stdout",
          "text": [
            "                  popularity  duration_ms  danceability    energy       key  \\\n",
            "popularity          1.000000    -0.056460      0.093532  0.006798  0.003485   \n",
            "duration_ms        -0.056460     1.000000     -0.065669  0.059412  0.011381   \n",
            "danceability        0.093532    -0.065669      1.000000  0.120380  0.031747   \n",
            "energy              0.006798     0.059412      0.120380  1.000000  0.042430   \n",
            "key                 0.003485     0.011381      0.031747  0.042430  1.000000   \n",
            "loudness            0.102049    -0.003363      0.246011  0.761571  0.033864   \n",
            "mode               -0.006611    -0.036741     -0.060345 -0.070504 -0.144682   \n",
            "speechiness        -0.065031    -0.062779      0.106114  0.138711  0.013828   \n",
            "acousticness       -0.043000    -0.108389     -0.162485 -0.732854 -0.041698   \n",
            "instrumentalness   -0.183774     0.116681     -0.178727 -0.177874 -0.001747   \n",
            "liveness           -0.033350     0.008810     -0.128263  0.195282 -0.002652   \n",
            "valence             0.016090    -0.147273      0.484304  0.247493  0.023756   \n",
            "tempo               0.000834     0.020850     -0.045047  0.249072  0.006371   \n",
            "time_signature      0.039063     0.003140      0.158723  0.165069  0.013810   \n",
            "\n",
            "                  loudness      mode  speechiness  acousticness  \\\n",
            "popularity        0.102049 -0.006611    -0.065031     -0.043000   \n",
            "duration_ms      -0.003363 -0.036741    -0.062779     -0.108389   \n",
            "danceability      0.246011 -0.060345     0.106114     -0.162485   \n",
            "energy            0.761571 -0.070504     0.138711     -0.732854   \n",
            "key               0.033864 -0.144682     0.013828     -0.041698   \n",
            "loudness          1.000000 -0.036255     0.054092     -0.581077   \n",
            "mode             -0.036255  1.000000    -0.037903      0.085186   \n",
            "speechiness       0.054092 -0.037903     1.000000      0.007449   \n",
            "acousticness     -0.581077  0.085186     0.007449      1.000000   \n",
            "instrumentalness -0.428722 -0.052520    -0.102117      0.089211   \n",
            "liveness          0.087145  0.018645     0.225534     -0.019108   \n",
            "valence           0.278888  0.025545     0.031699     -0.096259   \n",
            "tempo             0.217690 -0.000969    -0.005685     -0.219762   \n",
            "time_signature    0.147857 -0.026868     0.004917     -0.171823   \n",
            "\n",
            "                  instrumentalness  liveness   valence     tempo  \\\n",
            "popularity               -0.183774 -0.033350  0.016090  0.000834   \n",
            "duration_ms               0.116681  0.008810 -0.147273  0.020850   \n",
            "danceability             -0.178727 -0.128263  0.484304 -0.045047   \n",
            "energy                   -0.177874  0.195282  0.247493  0.249072   \n",
            "key                      -0.001747 -0.002652  0.023756  0.006371   \n",
            "loudness                 -0.428722  0.087145  0.278888  0.217690   \n",
            "mode                     -0.052520  0.018645  0.025545 -0.000969   \n",
            "speechiness              -0.102117  0.225534  0.031699 -0.005685   \n",
            "acousticness              0.089211 -0.019108 -0.096259 -0.219762   \n",
            "instrumentalness          1.000000 -0.099917 -0.327347 -0.047843   \n",
            "liveness                 -0.099917  1.000000  0.018627  0.000806   \n",
            "valence                  -0.327347  0.018627  1.000000  0.079372   \n",
            "tempo                    -0.047843  0.000806  0.079372  1.000000   \n",
            "time_signature           -0.048431 -0.003759  0.104982  0.000346   \n",
            "\n",
            "                  time_signature  \n",
            "popularity              0.039063  \n",
            "duration_ms             0.003140  \n",
            "danceability            0.158723  \n",
            "energy                  0.165069  \n",
            "key                     0.013810  \n",
            "loudness                0.147857  \n",
            "mode                   -0.026868  \n",
            "speechiness             0.004917  \n",
            "acousticness           -0.171823  \n",
            "instrumentalness       -0.048431  \n",
            "liveness               -0.003759  \n",
            "valence                 0.104982  \n",
            "tempo                   0.000346  \n",
            "time_signature          1.000000  \n"
          ]
        }
      ]
    },
    {
      "cell_type": "markdown",
      "source": [
        "Interestingly, it appears that there is not a incredibly high correlation between any of the features. Energy and loudness have one of the highest correlations, with a score of 0.7616. This makes sense, since loud songs inherently are more energetic. Similarly danceability and valence have a relatively high correlation value of 0.484. Since valence is how \"positive\" music is, it makes sense that positive songs are generally easier to dance to.\n",
        "\n",
        "Of course, since we are trying to predict the popularity of a song, it is important to look at the correlation between popularity and the features of the dataset."
      ],
      "metadata": {
        "id": "2cnCEG-R7Uwm"
      }
    },
    {
      "cell_type": "code",
      "source": [
        "# Correlation between each feature variable and label.\n",
        "feature_names = ['acousticness', 'danceability', 'energy', 'instrumentalness',\n",
        "       'liveness', 'loudness', 'speechiness', 'tempo', 'valence','duration_ms','key','mode']\n",
        "\n",
        "X, y = numerical_data[feature_names], numerical_data['popularity']\n",
        "\n",
        "features = np.array(feature_names)\n",
        "\n",
        "visualizer = FeatureCorrelation(labels=features)\n",
        "\n",
        "plt.rcParams['figure.figsize']=(5,5)\n",
        "visualizer.fit(X, y)\n",
        "visualizer.show()"
      ],
      "metadata": {
        "id": "xA7lRwJbrI1_",
        "colab": {
          "base_uri": "https://localhost:8080/"
        },
        "outputId": "cd25d970-28b4-41d4-8732-b17bd6fb6eb4"
      },
      "execution_count": null,
      "outputs": [
        {
          "output_type": "display_data",
          "data": {
            "text/plain": [
              "<Figure size 500x500 with 1 Axes>"
            ],
            "image/png": "[encoded data removed]"
          },
          "metadata": {}
        },
        {
          "output_type": "execute_result",
          "data": {
            "text/plain": [
              "<Axes: title={'center': 'Features correlation with dependent variable'}, xlabel='Pearson Correlation'>"
            ]
          },
          "metadata": {},
          "execution_count": 66
        }
      ]
    },
    {
      "cell_type": "markdown",
      "source": [
        "There does not seem to be much correlation between any of the individual features and the label, given the ranges of feature correlation.\n",
        "\n",
        "While all of the values are relatively low, two correlations in particular stand out. Popularity and loudness have a correlation of 0.102, which although low, is much higher than other correlations. Perhaps louder songs have more energy and thus are more popular. Popularity is negatively correlated with instrumentalness with a correlation of -0.183, which may indicate that songs with words are more popular than songs that focus on instrumentals.\n",
        "\n",
        "Nevertheless, we cannot give much weight to this analysis since the pearson correlation is incredibly low for all features. This may impact how our models will perform."
      ],
      "metadata": {
        "id": "ADSscavbuMMg"
      }
    },
    {
      "cell_type": "markdown",
      "source": [
        "### Analysis of categorical features.\n"
      ],
      "metadata": {
        "id": "1IopXPQHtCs5"
      }
    },
    {
      "cell_type": "code",
      "source": [
        "categorical_data = df[df.columns[(df.dtypes != 'int64') & (df.dtypes != 'float64')]]\n",
        "categorical_data.info()"
      ],
      "metadata": {
        "id": "f41tgt5MvQ55",
        "colab": {
          "base_uri": "https://localhost:8080/"
        },
        "outputId": "25864070-b00a-427f-93e8-193e12dabbac"
      },
      "execution_count": null,
      "outputs": [
        {
          "output_type": "stream",
          "name": "stdout",
          "text": [
            "<class 'pandas.core.frame.DataFrame'>\n",
            "Index: 82135 entries, 1 to 113999\n",
            "Data columns (total 6 columns):\n",
            " #   Column       Non-Null Count  Dtype \n",
            "---  ------       --------------  ----- \n",
            " 0   track_id     82135 non-null  object\n",
            " 1   artists      82135 non-null  object\n",
            " 2   album_name   82135 non-null  object\n",
            " 3   track_name   82135 non-null  object\n",
            " 4   explicit     82135 non-null  bool  \n",
            " 5   track_genre  82135 non-null  object\n",
            "dtypes: bool(1), object(5)\n",
            "memory usage: 3.8+ MB\n"
          ]
        }
      ]
    },
    {
      "cell_type": "markdown",
      "source": [
        "We can see that there are 5 categorical features in addition to the numerical ones. We can use these features for further analysis."
      ],
      "metadata": {
        "id": "DdNi-379MVJh"
      }
    },
    {
      "cell_type": "code",
      "source": [
        "# Number of unique values for each feature.\n",
        "print(categorical_data.nunique())"
      ],
      "metadata": {
        "id": "WCRcpmlFs0cX",
        "colab": {
          "base_uri": "https://localhost:8080/"
        },
        "outputId": "4dfff55b-c4c6-4492-c713-a82e0a8c30b5"
      },
      "execution_count": null,
      "outputs": [
        {
          "output_type": "stream",
          "name": "stdout",
          "text": [
            "track_id       82135\n",
            "artists        31217\n",
            "album_name     45634\n",
            "track_name     72799\n",
            "explicit           2\n",
            "track_genre      114\n",
            "dtype: int64\n"
          ]
        }
      ]
    },
    {
      "cell_type": "markdown",
      "source": [
        "Given that many of these categorical features have many unique values, one-hot encoding them would blow up the dimensionality of the dataset. We can see if there are some trends within these features and compared to the label to create new insights."
      ],
      "metadata": {
        "id": "ey6o-BQSOey7"
      }
    },
    {
      "cell_type": "markdown",
      "source": [
        "There are many unique artists, albums, and tracks, whereas the 'explicit' and 'track_genre' features can be analyzed easily."
      ],
      "metadata": {
        "id": "or2KJVJmskXN"
      }
    },
    {
      "cell_type": "code",
      "source": [
        "# Does explicitness have an effect on popularity?\n",
        "mask_true = df['explicit'] == True\n",
        "mask_false = df['explicit'] == False\n",
        "\n",
        "plt.hist(df[mask_true]['popularity'], bins=30, edgecolor='black')\n",
        "plt.title('Histogram of Explicit Songs')\n",
        "plt.xlabel('Explicit Songs')\n",
        "plt.ylabel('Frequency')\n",
        "plt.show()\n",
        "\n",
        "plt.hist(df[mask_false]['popularity'], bins=30, edgecolor='black')\n",
        "plt.title('Histogram of Non-Explicit Songs')\n",
        "plt.xlabel('Non-Explicit Songs')\n",
        "plt.ylabel('Frequency')\n",
        "plt.show()"
      ],
      "metadata": {
        "id": "h7bsxmoywMnj",
        "colab": {
          "base_uri": "https://localhost:8080/"
        },
        "outputId": "073e461c-a453-4d74-eca8-4c608e1bc49b"
      },
      "execution_count": null,
      "outputs": [
        {
          "output_type": "display_data",
          "data": {
            "text/plain": [
              "<Figure size 500x500 with 1 Axes>"
            ],
            "image/png": "[encoded data removed]"
          },
          "metadata": {}
        },
        {
          "output_type": "display_data",
          "data": {
            "text/plain": [
              "<Figure size 500x500 with 1 Axes>"
            ],
            "image/png": "[encoded data removed]"
          },
          "metadata": {}
        }
      ]
    },
    {
      "cell_type": "markdown",
      "source": [
        "Since one of the features is binary, we wanted to see if both classes affected the distribution of popularity. However, we can see that a song being explicit or not does not necessarily imply that the popularity will be any different. However, using intuition, albums and artists should have some correlation with popularity."
      ],
      "metadata": {
        "id": "exddpa_5PzYi"
      }
    },
    {
      "cell_type": "code",
      "source": [
        "# Albums and popularity.\n",
        "best_albums = df.groupby('album_name')['popularity'].mean()\n",
        "best_albums = best_albums.sort_values(ascending=False)\n",
        "print(best_albums[:10])"
      ],
      "metadata": {
        "id": "tCFGtXJkV3DT",
        "colab": {
          "base_uri": "https://localhost:8080/"
        },
        "outputId": "d37aedd3-63a9-4672-a72a-ccac253ed716"
      },
      "execution_count": null,
      "outputs": [
        {
          "output_type": "stream",
          "name": "stdout",
          "text": [
            "album_name\n",
            "Unholy (feat. Kim Petras)                                              100.0\n",
            "Quevedo: Bzrp Music Sessions, Vol. 52                                   99.0\n",
            "La Bachata                                                              98.0\n",
            "Indigo (Extended)                                                       96.0\n",
            "I Ain’t Worried (Music From The Motion Picture \"Top Gun: Maverick\")     96.0\n",
            "RENAISSANCE                                                             93.0\n",
            "PROVENZA                                                                93.0\n",
            "Calm Down (with Selena Gomez)                                           92.0\n",
            "Left and Right (Feat. Jung Kook of BTS)                                 92.0\n",
            "Super Freaky Girl                                                       92.0\n",
            "Name: popularity, dtype: float64\n"
          ]
        }
      ]
    },
    {
      "cell_type": "markdown",
      "source": [
        "The top albums seem to be from all different genres, however they seem to be recent albums. This implies that the release date of the song would have been a significant factor in terms of determining popularity."
      ],
      "metadata": {
        "id": "mGLtUEcTRgCK"
      }
    },
    {
      "cell_type": "code",
      "source": [
        "# Artists and popularity.\n",
        "artist_df = df.copy()\n",
        "artist_df['artists'] = artist_df['artists'].str.split(';')\n",
        "artist_df = artist_df.explode('artists')\n",
        "best_artists = artist_df.groupby('artists')['popularity'].mean()\n",
        "best_artists = best_artists.sort_values(ascending=False)\n",
        "print(best_artists[:10])"
      ],
      "metadata": {
        "id": "niJ7JvMz4XMP",
        "colab": {
          "base_uri": "https://localhost:8080/"
        },
        "outputId": "8dec159f-2173-4e78-94b0-d5db77e6e428"
      },
      "execution_count": null,
      "outputs": [
        {
          "output_type": "stream",
          "name": "stdout",
          "text": [
            "artists\n",
            "Quevedo             99.0\n",
            "Bizarrap            99.0\n",
            "Harry Styles        92.0\n",
            "Luar La L           91.0\n",
            "Beach Weather       90.0\n",
            "Maldy               90.0\n",
            "Armani White        89.0\n",
            "Polimá Westcoast    88.0\n",
            "Pablo Pesadilla     88.0\n",
            "Olivia Rodrigo      87.4\n",
            "Name: popularity, dtype: float64\n"
          ]
        }
      ]
    },
    {
      "cell_type": "markdown",
      "source": [
        "We see a similar trend with the artists. There seem to be a lot of popularity with Latin-pop artists and hip-hop artists. This indicates that, in addition to artist, genre could also be a large factor."
      ],
      "metadata": {
        "id": "9S1h95jlTFhg"
      }
    },
    {
      "cell_type": "code",
      "source": [
        "# Does having multiple artists on a song determine popularity?\n",
        "df['artist_count'] = df['artists'].apply(lambda x: len(x.split(';')))\n",
        "df_single_artist = df[df['artist_count'] == 1]\n",
        "df_multiple_artists = df[df['artist_count'] > 1]\n",
        "plt.figure(figsize=(10,6))\n",
        "plt.hist(df_single_artist['popularity'], bins=30, alpha=0.5, label='One Artist')\n",
        "plt.hist(df_multiple_artists['popularity'], bins=30, alpha=0.5, label='Multiple Artists')\n",
        "plt.title('Distribution of Popularity for Songs with One Artist vs Multiple Artists')\n",
        "plt.xlabel('Popularity')\n",
        "plt.ylabel('Frequency')\n",
        "plt.legend(loc='upper right')\n",
        "plt.show()"
      ],
      "metadata": {
        "id": "5-Wh9EpD5xF7",
        "colab": {
          "base_uri": "https://localhost:8080/"
        },
        "outputId": "61a437db-2a0e-497f-c714-7f119f512d94"
      },
      "execution_count": null,
      "outputs": [
        {
          "output_type": "display_data",
          "data": {
            "text/plain": [
              "<Figure size 1000x600 with 1 Axes>"
            ],
            "image/png": "[encoded data removed]"
          },
          "metadata": {}
        }
      ]
    },
    {
      "cell_type": "markdown",
      "source": [
        "One of the hypothesized additional features to add was if a song had multiple artists vs one. Intuitively, it makes sense that if a song has features then it is more likely to be popular. However, comparing the distributions of popularity between both subsets of the data, there does not seem to be a significant difference. For this reason, we did not add that feature as it would only increase the dimensionality unnecessarily."
      ],
      "metadata": {
        "id": "pPZgPSXm6s1t"
      }
    },
    {
      "cell_type": "markdown",
      "source": [
        "While artist and album name may very well be useful in determining the popularity of a song, one-hot encoding all possible genres or all possible artists is simply not feasible. Thus, let's look at other categorical features that might impact popularity\n",
        "\n",
        "Genre is perhaps one of the few discrete features that have a clear correlation with popularity. After all, certain genres are more popular with the general population compared to others. Let's compare the genres based on the average popularity."
      ],
      "metadata": {
        "id": "nIiAre6oYh3I"
      }
    },
    {
      "cell_type": "code",
      "source": [
        "# Does genre have an effect on popularity?\n",
        "grouped_genre = df.groupby('track_genre')['popularity']\n",
        "mean_genre_popularity = grouped_genre.mean()\n",
        "\n",
        "top_10_genres = mean_genre_popularity.nlargest(10)\n",
        "top_10_genres.plot(kind='bar', stacked=True)\n",
        "plt.title('Genre vs Most Popular')\n",
        "plt.xlabel('Genre')\n",
        "plt.ylabel('Popularity')\n",
        "plt.show()\n",
        "\n",
        "bottom_10_genres = mean_genre_popularity.nsmallest(10)\n",
        "bottom_10_genres.plot(kind='bar', stacked=True)\n",
        "plt.title('Genre vs Least Popular')\n",
        "plt.xlabel('Genre')\n",
        "plt.ylabel('Popularity')\n",
        "plt.show()"
      ],
      "metadata": {
        "id": "b37_bobv0LMA",
        "colab": {
          "base_uri": "https://localhost:8080/"
        },
        "outputId": "5abb61b2-0b38-4ca1-a712-17012760a05c"
      },
      "execution_count": null,
      "outputs": [
        {
          "output_type": "display_data",
          "data": {
            "text/plain": [
              "<Figure size 500x500 with 1 Axes>"
            ],
            "image/png": "[encoded data removed]"
          },
          "metadata": {}
        },
        {
          "output_type": "display_data",
          "data": {
            "text/plain": [
              "<Figure size 500x500 with 1 Axes>"
            ],
            "image/png": "[encoded data removed]"
          },
          "metadata": {}
        }
      ]
    },
    {
      "cell_type": "markdown",
      "source": [
        "As hypothesized and indicated in the other trends for artists and album, certain genres certainly tend to produce songs that are more popular than others. In first place is metal and pop and last place is Iranian. Because of this, it makes sense to one hot encode the genres because this feature will likely help the models."
      ],
      "metadata": {
        "id": "EaO5VLrt3iTE"
      }
    },
    {
      "cell_type": "markdown",
      "source": [
        " However, there is no clear difference between the top genres. Perhaps this is because since there are so many songs in the metal genre, there may also be many metal songs that are low in popularity, bringing down the average. Thus, it may be useful to look at the top 10% songs in each genre to determine the popularity.\n",
        "\n",
        " It's interesting to see that metal and kpop, two less popular genres, drop out of the top 10 most popular genres after we look at only the top 10% of tracks."
      ],
      "metadata": {
        "id": "b480dmMlcFK_"
      }
    },
    {
      "cell_type": "code",
      "source": [
        "def top_10_mean(group):\n",
        "    top_10_percent = np.percentile(group, 90)\n",
        "    top_10 = group[group >= top_10_percent]\n",
        "    return top_10.mean()\n",
        "\n",
        "genres = df.groupby('track_genre')['popularity'].mean().sort_values(ascending=False).head(10)\n",
        "genres_top_10 = df.groupby('track_genre')['popularity'].apply(top_10_mean).sort_values(ascending=False).head(10)\n",
        "\n",
        "plt.bar(genres_top_10.index, genres)\n",
        "plt.title('Mean Popularity of Top 10% by Track Genre')\n",
        "plt.xlabel('Track Genre')\n",
        "plt.ylabel('Mean Popularity (Top 10%)')\n",
        "plt.show()"
      ],
      "metadata": {
        "id": "nkBhyoddcF9w",
        "colab": {
          "base_uri": "https://localhost:8080/"
        },
        "outputId": "883b84f6-4eb0-448a-a303-950ee5ce9cfa"
      },
      "execution_count": null,
      "outputs": [
        {
          "output_type": "display_data",
          "data": {
            "text/plain": [
              "<Figure size 500x500 with 1 Axes>"
            ],
            "image/png": "[encoded data removed]"
          },
          "metadata": {}
        }
      ]
    },
    {
      "cell_type": "markdown",
      "source": [
        "After this change, pop seems to be the genre that is most correlated to high popularity. This make sense as it is in the name 'pop.'"
      ],
      "metadata": {
        "id": "xsc5F1bkh2lR"
      }
    },
    {
      "cell_type": "markdown",
      "source": [
        "# Feature Engineering"
      ],
      "metadata": {
        "id": "WhSRx_UC62R6"
      }
    },
    {
      "cell_type": "markdown",
      "source": [
        "To begin feature engineering, we note that there are several categorical features that need to be one-hot encoded. We chose to one-hot encode the following features: \"mode\", \"key\", \"time_signature\", and \"track_genre\"\n",
        "\n",
        "For \"mode\", which represents the song's modality, it should not be represented by a numerical 1 or 0. So we converted it to boolean values.\n",
        "\n",
        "In the original dataset, the \"key\" feature represents what key the song is in. But to do so, it assigned numbers to certain keys. This needed to be one-hot encoded because these numbers imply a certain order to the keys that isn't entirely representative of how keys in music work.\n",
        "\n",
        "Similarly, the values for the \"time_signature\" were represented by numerical values. These would imply an inherit ordering to the time signatures that the model could pick up on. However, this is not the case which is why we chose to one-hot encode this feature.\n",
        "\n",
        "We believe that one of the most important features is genre, since there are certainly categories of songs that are more popular than others. Thus, while there are a lot of genres that increase the number of features in our dataset, we believe that keeping genre and one-hot encoding it will improve our model's performance."
      ],
      "metadata": {
        "id": "FI4AkQec-JwI"
      }
    },
    {
      "cell_type": "code",
      "source": [
        "# One hot encode the mode (major or minor)\n",
        "df = pd.get_dummies(data=df, columns=['mode'], drop_first=True)\n",
        "df = df.rename(columns={'mode_1': 'major_key'})"
      ],
      "metadata": {
        "id": "j1-zTlyr9Jnn"
      },
      "execution_count": null,
      "outputs": []
    },
    {
      "cell_type": "code",
      "source": [
        "# ohe the key\n",
        "df = pd.get_dummies(data=df, columns=['key'])\n",
        "# rename the feature names to something more understandable\n",
        "key_num_to_music_note_dict = {\n",
        "    'key_0' : 'C',\n",
        "    'key_1' : 'C#/Db',\n",
        "    'key_2' : 'D',\n",
        "    'key_3' : 'D#/Eb',\n",
        "    'key_4' : 'E',\n",
        "    'key_5' : 'F',\n",
        "    'key_6' : 'F#/Gb',\n",
        "    'key_7' : 'G',\n",
        "    'key_8' : 'G#/Ab',\n",
        "    'key_9' : 'A',\n",
        "    'key_10' : 'A#/Bb',\n",
        "    'key_11' : 'B',\n",
        "}\n",
        "df = df.rename(columns=key_num_to_music_note_dict)"
      ],
      "metadata": {
        "id": "Vf56r8RT9nhg"
      },
      "execution_count": null,
      "outputs": []
    },
    {
      "cell_type": "code",
      "source": [
        "# ohe the time signature\n",
        "df = pd.get_dummies(data=df, columns=['time_signature'])"
      ],
      "metadata": {
        "id": "VFOglQCo9w4J"
      },
      "execution_count": null,
      "outputs": []
    },
    {
      "cell_type": "code",
      "source": [
        "# ohe the genres\n",
        "genres = df['track_genre'].unique()\n",
        "df = pd.get_dummies(data=df, columns=['track_genre'])"
      ],
      "metadata": {
        "id": "x5URpXAI94mX"
      },
      "execution_count": null,
      "outputs": []
    },
    {
      "cell_type": "markdown",
      "source": [
        "After one-hot encoding some of our categorical data, we look to numerical data for binning. There are a couple of features that we believe should not simply be a number. For example, the exact duration of a song is much less important than whether it was a short song or whether it was a longer song. Similarly whether a song had a \"fast\" or \"slow\" tempo is more important than the exact numerical value."
      ],
      "metadata": {
        "id": "fDpzpESO-Gca"
      }
    },
    {
      "cell_type": "code",
      "source": [
        "# converts minutes to milliseconds\n",
        "def min_to_ms(minutes):\n",
        "  return minutes * 60 * 1000\n",
        "\n",
        "# takes in a list of tuples of minute values (really the duration_bins_range_in_mins values above) and\n",
        "# returns a list of tuples with the corresponding millisecond values\n",
        "def convert_min_tuples_to_ms(min_tuples):\n",
        "  ret_list = []\n",
        "  for curr_tuple in min_tuples:\n",
        "    ret_list.append((min_to_ms(curr_tuple[0]), min_to_ms(curr_tuple[1])))\n",
        "  return ret_list\n",
        "\n",
        "# using the tempo binning constants, create the bins used to bin the tempo\n",
        "def create_tempo_bins():\n",
        "  return pd.IntervalIndex.from_tuples(list_tempo_bins, closed='left')\n",
        "\n",
        "# create a dictionary that will map the feature names (which are in milliseconds) after binning and ohe the\n",
        "# duration to feature names that are in minutes. this is just for easier\n",
        "# readibility when we are looking at the features\n",
        "def create_duration_rename_dict(duration_bins):\n",
        "  duration_label_name = 'duration_ms'\n",
        "  ms_name_list = []\n",
        "  mins_name_list = []\n",
        "  for i in range(len(duration_bins)):\n",
        "    curr_duration_bin = duration_bins[i]\n",
        "    curr_mins_tuple = duration_bins_range_in_mins[i]\n",
        "    ms_name_list.append(duration_label_name + '_' + str(curr_duration_bin) + '')\n",
        "    if (curr_mins_tuple[1] == max_mins_value):\n",
        "      mins_name_list.append('>=' + str(curr_mins_tuple[0]))\n",
        "    else:\n",
        "      mins_name_list.append(str(curr_mins_tuple[0]) + '-' + str(curr_mins_tuple[1]) + ' mins')\n",
        "  return dict(zip(ms_name_list, mins_name_list))"
      ],
      "metadata": {
        "id": "AcwqhVRQ823T"
      },
      "execution_count": null,
      "outputs": []
    },
    {
      "cell_type": "code",
      "source": [
        "# Some definitions for binning.\n",
        "max_mins_value = 999\n",
        "duration_bins_range_in_mins = [(0, 2), (2, 4), (4, 6), (6, 8), (8, 10), (10, 30), (30, max_mins_value)]\n",
        "tempo_end_value = 300 # end value of the last bin (highest tempo value in dataset is about 220)\n",
        "list_tempo_bins = [(0, 60), (60, 80), (80, 100), (100, 120), (120, 140), (140, 160), (160, tempo_end_value)]"
      ],
      "metadata": {
        "id": "mNP_s6J66-kt"
      },
      "execution_count": null,
      "outputs": []
    },
    {
      "cell_type": "code",
      "source": [
        "# bin the duration (specific ms values dont really matter)\n",
        "duration_bins = pd.IntervalIndex.from_tuples(convert_min_tuples_to_ms(duration_bins_range_in_mins), closed='left')\n",
        "df['duration_ms'] = pd.cut(df['duration_ms'], duration_bins)\n",
        "df = pd.get_dummies(data=df, columns=['duration_ms'])\n",
        "df = df.rename(columns=create_duration_rename_dict(duration_bins))"
      ],
      "metadata": {
        "id": "hZvzzXw89-o5"
      },
      "execution_count": null,
      "outputs": []
    },
    {
      "cell_type": "code",
      "source": [
        "# bin the tempo into groups of group_size (specific tempo values dont really matter)\n",
        "tempo_bins = create_tempo_bins()\n",
        "df['tempo'] = pd.cut(df['tempo'], tempo_bins)\n",
        "df = pd.get_dummies(data=df, columns=['tempo'])"
      ],
      "metadata": {
        "id": "qegZytGV-DZw"
      },
      "execution_count": null,
      "outputs": []
    },
    {
      "cell_type": "markdown",
      "source": [
        "Finally, when looking at our dataset, we noticed that there are a couple of features that would not be of much use. track_id and track_name in particular are two features that won't be useful, the former since it is simply an identification of the track, and the second since track name should be unique to each row anyway.\n",
        "\n",
        "Two features we struggled to deal with were artists and album_name. Like genre, one approach would be to one-hot encode artists, but given that there are millions of albums and hundreds of thousands of artists around the world, that would not be feasible. Thus, while we could have included another dataset that would allow us to consider artist and albums, we opted to focus on the other features to predict song popularity.\n",
        "\n",
        "Finally, one feature that we considered was \"artist count\". This was not originally in the dataset, but we thought that having multiple artists in a song may improve its popularity. However, after trying to run the model with the feature included and without it, we found that it had little impact on model performance. Thus we opted to remove it in our final dataset before modeling."
      ],
      "metadata": {
        "id": "WZtbfbYY-fIx"
      }
    },
    {
      "cell_type": "code",
      "source": [
        "columns_to_drop = ['artists', 'track_id', 'album_name', 'track_name', 'artist_count']\n",
        "df = df.drop(columns=columns_to_drop)"
      ],
      "metadata": {
        "id": "x7hXHCg1-VT0"
      },
      "execution_count": null,
      "outputs": []
    },
    {
      "cell_type": "markdown",
      "source": [
        "# Modeling\n"
      ],
      "metadata": {
        "id": "qb_9jrv4mEgl"
      }
    },
    {
      "cell_type": "markdown",
      "source": [
        "Several modeling techniques will be implemented on the refined dataset to predict song popularity based on a song's characteristics. Various algorithms will be applied to determine which models work effectively and which models do not. Regardless of technique, the label column 'popularity' needs to be separated from the rest of the features:"
      ],
      "metadata": {
        "id": "EQVEu29kmjEq"
      }
    },
    {
      "cell_type": "code",
      "source": [
        "label_col = 'popularity'\n",
        "# Shuffle records\n",
        "df = df.sample(frac=1)\n",
        "labels = df.loc[:, df.columns == label_col]\n",
        "features = df.loc[:, df.columns != label_col]\n",
        "\n",
        "# Verify that the features is the same except for missing popularity\n",
        "print(features.head())\n"
      ],
      "metadata": {
        "id": "KlhNyREAvz2L",
        "colab": {
          "base_uri": "https://localhost:8080/"
        },
        "outputId": "220d2aa5-a97e-4dba-a2f9-0bf94b0982ce"
      },
      "execution_count": null,
      "outputs": [
        {
          "output_type": "stream",
          "name": "stdout",
          "text": [
            "       explicit  danceability  energy  loudness  speechiness  acousticness  \\\n",
            "84984     False         0.624   0.730   -12.196       0.1290         0.307   \n",
            "52542     False         0.527   0.393   -11.336       0.0277         0.827   \n",
            "20401     False         0.555   0.648    -6.539       0.2960         0.693   \n",
            "54525     False         0.702   0.615   -13.527       0.0476         0.349   \n",
            "87691     False         0.785   0.624    -6.644       0.0397         0.201   \n",
            "\n",
            "       instrumentalness  liveness  valence  major_key  ...  8-10 mins  \\\n",
            "84984          0.000025     0.149    0.519       True  ...      False   \n",
            "52542          0.000000     0.348    0.624       True  ...      False   \n",
            "20401          0.000644     0.128    0.641      False  ...      False   \n",
            "54525          0.266000     0.185    0.161       True  ...      False   \n",
            "87691          0.000026     0.134    0.899       True  ...      False   \n",
            "\n",
            "       10-30 mins   >=30  tempo_[0, 60)  tempo_[60, 80)  tempo_[80, 100)  \\\n",
            "84984       False  False          False           False            False   \n",
            "52542       False  False          False            True            False   \n",
            "20401       False  False          False           False            False   \n",
            "54525       False  False          False           False            False   \n",
            "87691       False  False          False           False             True   \n",
            "\n",
            "       tempo_[100, 120)  tempo_[120, 140)  tempo_[140, 160)  tempo_[160, 300)  \n",
            "84984             False              True             False             False  \n",
            "52542             False             False             False             False  \n",
            "20401             False             False             False              True  \n",
            "54525              True             False             False             False  \n",
            "87691             False             False             False             False  \n",
            "\n",
            "[5 rows x 153 columns]\n"
          ]
        }
      ]
    },
    {
      "cell_type": "markdown",
      "source": [
        "## Regression\n",
        "\n",
        "Since popularity is an ordinal attribute with integer possibilities ranging from 0 to 100, regression can be an effective way to analyze the song data. There will be three distinct regression evaluators applied to the data. The best versions of these evaluators will then be ensembled to create the optimal regression model for this dataset.\n",
        "\n",
        "The evaluation metric for these evaluators will be the R^2 score. The R^2 score is a decimal ranging from 0 to 1, and it explains how well the label can be predicted based on the features used in the evaluator. A score of 0 means that the specified features are not at all useful in predicting the label, whereas a score of 1 means that the specified features entirely and exactly predict the label."
      ],
      "metadata": {
        "id": "75k_wzxyXkLK"
      }
    },
    {
      "cell_type": "markdown",
      "source": [
        "### Linear Regression\n",
        "\n",
        "Fitting a LinearRegression model using all of the dataset's features results in an R^2 score of ~0.39."
      ],
      "metadata": {
        "id": "JLbMH9nD4-3S"
      }
    },
    {
      "cell_type": "code",
      "source": [
        "from sklearn.linear_model import LinearRegression\n",
        "from sklearn.model_selection import cross_val_score\n",
        "\n",
        "# Default # folds = 5\n",
        "linreg = LinearRegression()\n",
        "R2s = cross_val_score(linreg, features, labels, scoring='r2')\n",
        "print(\"Linear Regression Average R2:\", R2s.mean())"
      ],
      "metadata": {
        "id": "CtEouHmKK2sG",
        "colab": {
          "base_uri": "https://localhost:8080/"
        },
        "outputId": "ed9d6b18-7c49-49cc-c0a9-1ea7588fcfd1"
      },
      "execution_count": null,
      "outputs": [
        {
          "output_type": "stream",
          "name": "stdout",
          "text": [
            "Linear Regression Average R2: 0.39424838559832465\n"
          ]
        }
      ]
    },
    {
      "cell_type": "markdown",
      "source": [
        "### Multi-Layer Perceptron Regressor\n",
        "\n",
        "Fitting a MLPRegressor model using GridSearchCV for optimal parameters results in an optimal hidden layer size of 70, optimal activation function of logistic, and a R^2 score of ~0.42."
      ],
      "metadata": {
        "id": "uiRREFWXdW4d"
      }
    },
    {
      "cell_type": "code",
      "source": [
        "from sklearn.neural_network import MLPRegressor\n",
        "from sklearn.model_selection import GridSearchCV\n",
        "from sklearn.preprocessing import StandardScaler\n",
        "from sklearn.pipeline import Pipeline\n",
        "\n",
        "# Ignore Convergence Warnings because we are only training at 30 epochs\n",
        "# for simplicity and reasonableness\n",
        "import warnings\n",
        "from sklearn.exceptions import ConvergenceWarning\n",
        "\n",
        "warnings.simplefilter(\"ignore\", category=ConvergenceWarning)\n",
        "\n",
        "mlp = MLPRegressor(max_iter=30)\n",
        "scaler = StandardScaler()\n",
        "pipeline = Pipeline([('scaler', scaler), ('mlp', mlp)])\n",
        "\n",
        "# Tune to optial hyperparameters\n",
        "param_grid = {\n",
        "    'mlp__hidden_layer_sizes': list([40, 50, 60, 70]),\n",
        "    'mlp__activation': list(['logistic', 'tanh', 'relu']),\n",
        "}\n",
        "\n",
        "gridsearch = GridSearchCV(estimator=pipeline, param_grid=param_grid, cv=5)\n",
        "\n",
        "# Formatting to fix DataConversionWarning\n",
        "labels_r = labels.values.ravel()\n",
        "\n",
        "gridsearch.fit(features, labels_r)\n",
        "print(\"Best params:\", gridsearch.best_params_)\n",
        "print(\"Best score:\", gridsearch.best_score_)\n",
        "\n",
        "nnR2s = cross_val_score(gridsearch.best_estimator_, features, labels_r, cv=5, scoring='r2')\n",
        "print(\"Neural Network Average R2:\", nnR2s.mean())"
      ],
      "metadata": {
        "id": "9z8AjzaldY4u",
        "colab": {
          "base_uri": "https://localhost:8080/"
        },
        "outputId": "0a877a72-2710-4ce9-b842-395ac1d0fe26"
      },
      "execution_count": null,
      "outputs": [
        {
          "output_type": "stream",
          "name": "stdout",
          "text": [
            "Best params: {'mlp__activation': 'logistic', 'mlp__hidden_layer_sizes': 60}\n",
            "Best score: 0.4226436914066863\n",
            "Neural Network Average R2: 0.42231099928342897\n"
          ]
        }
      ]
    },
    {
      "cell_type": "markdown",
      "source": [
        "### K-Neighbors Regressor\n",
        "\n",
        "Fitting a KNeighborsRegressor model using GridSearchCV for optimal parameters results in optimal number of PCA components as 60, an optimal k neighbors of 55, and a R^2 score of ~0.41."
      ],
      "metadata": {
        "id": "UZJzkcoIdaUd"
      }
    },
    {
      "cell_type": "code",
      "source": [
        "from sklearn.neighbors import KNeighborsRegressor\n",
        "from sklearn.decomposition import PCA\n",
        "neighbors = KNeighborsRegressor()\n",
        "\n",
        "# Reduce dimensionality\n",
        "pca = PCA()\n",
        "kpipeline = Pipeline([('scaler', scaler), ('pca', pca), ('knn', neighbors)])\n",
        "#TODO this takes a long time due to the range of values. maybe can shrink this?\n",
        "kparam_grid = {\n",
        "    'pca__n_components': list([60, 70, 80, 90]),\n",
        "    'knn__n_neighbors': list([25, 35, 45, 55])\n",
        "}\n",
        "kgridsearcher = GridSearchCV(estimator=kpipeline, param_grid=kparam_grid, cv=5)\n",
        "kgridsearcher.fit(features, labels)\n",
        "print(\"Best params:\", kgridsearcher.best_params_)\n",
        "print(\"Best score:\", kgridsearcher.best_score_)\n",
        "\n",
        "kR2s = cross_val_score(kgridsearcher.best_estimator_, features, labels, cv=5, scoring='r2')\n",
        "print(\"K-Neighbors Average R2:\", kR2s.mean())"
      ],
      "metadata": {
        "id": "Trr0_P1jdc2D",
        "colab": {
          "base_uri": "https://localhost:8080/"
        },
        "outputId": "90e71be0-9bc7-431d-c2fa-e0c4264a1740"
      },
      "execution_count": null,
      "outputs": [
        {
          "output_type": "stream",
          "name": "stdout",
          "text": [
            "Best params: {'knn__n_neighbors': 55, 'pca__n_components': 60}\n",
            "Best score: 0.4060766972438506\n",
            "K-Neighbors Average R2: 0.4057875609285112\n"
          ]
        }
      ]
    },
    {
      "cell_type": "markdown",
      "source": [
        "### Ensembling the Three Methods Using VotingRegressor:"
      ],
      "metadata": {
        "id": "_6YkHIX2dfWc"
      }
    },
    {
      "cell_type": "code",
      "source": [
        "from sklearn.ensemble import VotingRegressor\n",
        "\n",
        "regensemble = VotingRegressor(estimators=[('linear', linreg), ('mlp', gridsearch.best_estimator_), ('knn', kgridsearcher.best_estimator_)])\n",
        "regR2s = cross_val_score(regensemble, features, labels, cv=5, scoring='r2')\n",
        "print(\"Regression Ensemble Average R2:\", regR2s.mean())"
      ],
      "metadata": {
        "id": "jLEaZyuSdiyA",
        "colab": {
          "base_uri": "https://localhost:8080/"
        },
        "outputId": "dd47cf63-4a6b-4de7-c505-edbbaab84aa6"
      },
      "execution_count": null,
      "outputs": [
        {
          "output_type": "stream",
          "name": "stderr",
          "text": [
            "/usr/local/lib/python3.10/dist-packages/sklearn/ensemble/_voting.py:597: DataConversionWarning: A column-vector y was passed when a 1d array was expected. Please change the shape of y to (n_samples, ), for example using ravel().\n",
            "  y = column_or_1d(y, warn=True)\n",
            "/usr/local/lib/python3.10/dist-packages/sklearn/ensemble/_voting.py:597: DataConversionWarning: A column-vector y was passed when a 1d array was expected. Please change the shape of y to (n_samples, ), for example using ravel().\n",
            "  y = column_or_1d(y, warn=True)\n",
            "/usr/local/lib/python3.10/dist-packages/sklearn/ensemble/_voting.py:597: DataConversionWarning: A column-vector y was passed when a 1d array was expected. Please change the shape of y to (n_samples, ), for example using ravel().\n",
            "  y = column_or_1d(y, warn=True)\n",
            "/usr/local/lib/python3.10/dist-packages/sklearn/ensemble/_voting.py:597: DataConversionWarning: A column-vector y was passed when a 1d array was expected. Please change the shape of y to (n_samples, ), for example using ravel().\n",
            "  y = column_or_1d(y, warn=True)\n",
            "/usr/local/lib/python3.10/dist-packages/sklearn/ensemble/_voting.py:597: DataConversionWarning: A column-vector y was passed when a 1d array was expected. Please change the shape of y to (n_samples, ), for example using ravel().\n",
            "  y = column_or_1d(y, warn=True)\n"
          ]
        },
        {
          "output_type": "stream",
          "name": "stdout",
          "text": [
            "Regression Ensemble Average R2: 0.4143069032593799\n"
          ]
        }
      ]
    },
    {
      "cell_type": "markdown",
      "source": [
        "Using a VotingRegressor to ensemble the best versions of the linear regressor, neural network regressor, and k-neighbors regressor results in a R^2 score of ~0.42. This means that using a combination of the three base estimators accounts for ~42% of the variation in popularity labels.\n",
        "\n",
        "This is pretty similar to what we expected from our data exploration. There was little correlation between the features and popularity, so it would be relatively difficult to predict popularity from those features. Nevertheless, we found that MLPRegressor performed marginally better than the other regression models and found that ensembling the three methods also slightly improved performance."
      ],
      "metadata": {
        "id": "-tFOZBwddky8"
      }
    },
    {
      "cell_type": "markdown",
      "source": [
        "## Classification\n",
        "\n",
        "Another approach to this problem is to classify songs into groups of popuarity rather than predict an exact metric. Due to the wide range of popularity values, the amount of labels will be reduced through binning the popularity scores, and then evaluate records as belonging in one of several \"popularity bins.\"\n",
        "\n",
        "Binning thresholds are very important in the effectiveness of these models. For simplicity and readability, popularity is going to be binned in half:\n",
        "\n",
        "*   0-50 indicates a song which is likely not popular\n",
        "*   51-100 indicates a song which is likely popular\n",
        "\n",
        "The evaluation metric is accuracy of classification, meaning that the song was either binned correctly or it was not. The percentage indicates what percentage of songs were binned in the right division."
      ],
      "metadata": {
        "id": "49q4ZE8kbO_k"
      }
    },
    {
      "cell_type": "code",
      "source": [
        "\n",
        "# code to bin popularity into popular/not-popular (popular is above 50, not popular is below 50)\n",
        "pop_binned_df = df\n",
        "pop_binned_df['popularity'] = pd.cut(pop_binned_df['popularity'], 2, labels=['not popular', 'popular'])\n",
        "x = pop_binned_df.loc[:, df.columns != 'popularity']\n",
        "y = pop_binned_df['popularity']\n",
        "y = pop_binned_df['popularity'].values.ravel()\n"
      ],
      "metadata": {
        "id": "-PH6R7X0dHNE"
      },
      "execution_count": null,
      "outputs": []
    },
    {
      "cell_type": "markdown",
      "source": [
        "### Random Forest Classifier\n",
        "\n",
        "Fitting a RandomForestClassifier using GridSearchCV for optimal parameters results in an average accuracy of ~80.3%."
      ],
      "metadata": {
        "id": "ae_7g2ERdOW1"
      }
    },
    {
      "cell_type": "code",
      "source": [
        "import sklearn.model_selection as skm\n",
        "from sklearn.ensemble import RandomForestClassifier\n",
        "\n",
        "RFclf = RandomForestClassifier()\n",
        "\n",
        "params_grid = {\n",
        "    'max_depth':[20], #+1 so inclusive\n",
        "    'min_samples_leaf':[5],\n",
        "    'max_features':[5, 10]\n",
        "}\n",
        "\n",
        "\n",
        "RF_grid_search = skm.GridSearchCV(RFclf, params_grid, cv=5, scoring='accuracy')\n",
        "RF_grid_search.fit(x, y)\n",
        "print(\"Best params:\", RF_grid_search.best_params_)\n",
        "print(\"Best score:\", RF_grid_search.best_score_)\n",
        "\n",
        "\n",
        "RF_score = cross_val_score(RF_grid_search.best_estimator_, x, y, cv=5)\n",
        "\n",
        "# print results\n",
        "print(\"Random Forest Average Accuracy:\", str(RF_score.mean()))"
      ],
      "metadata": {
        "id": "IEA0wrS6F4CP",
        "colab": {
          "base_uri": "https://localhost:8080/"
        },
        "outputId": "738dca77-c668-4eec-9cd5-ff4999a208cc"
      },
      "execution_count": null,
      "outputs": [
        {
          "output_type": "stream",
          "name": "stdout",
          "text": [
            "Best params: {'max_depth': 20, 'max_features': 10, 'min_samples_leaf': 5}\n",
            "Best score: 0.8024106653679917\n",
            "Random Forest Average Accuracy: 0.8023376149022949%\n"
          ]
        }
      ]
    },
    {
      "cell_type": "markdown",
      "source": [
        "### Gaussian Naive-Bayes Classifier\n",
        "\n",
        "Fitting a GaussianNB Classifier results in an accuracy of ~66.6%."
      ],
      "metadata": {
        "id": "dSasw696dvFo"
      }
    },
    {
      "cell_type": "code",
      "source": [
        "from sklearn.naive_bayes import GaussianNB\n",
        "\n",
        "nb = GaussianNB()\n",
        "nbaccs = cross_val_score(nb, x, y, cv=5)\n",
        "print(\"Gaussian Average Accuracy:\", nbaccs.mean())"
      ],
      "metadata": {
        "id": "GH-ytn50d0SM",
        "colab": {
          "base_uri": "https://localhost:8080/"
        },
        "outputId": "6fe69cb8-75a4-4cb0-dbf2-0ad80989ffef"
      },
      "execution_count": null,
      "outputs": [
        {
          "output_type": "stream",
          "name": "stdout",
          "text": [
            "Gaussian Average Accuracy: 0.6566262859925732\n"
          ]
        }
      ]
    },
    {
      "cell_type": "markdown",
      "source": [
        "### AdaBoost Classifier\n",
        "\n",
        "Fitting an AdaBoostClassifier using GridSearchCV for optimal parameters results in an accuracy of ~80.4%."
      ],
      "metadata": {
        "id": "F7y4xHb6dxcb"
      }
    },
    {
      "cell_type": "code",
      "source": [
        "from sklearn.ensemble import AdaBoostClassifier\n",
        "\n",
        "ABCclf = AdaBoostClassifier()\n",
        "ada_grid = {\n",
        "    'n_estimators': [10, 30, 50]\n",
        "}\n",
        "\n",
        "\n",
        "ada_grid_search = GridSearchCV(ABCclf, ada_grid, cv=5, scoring='accuracy')\n",
        "ada_grid_search.fit(x, y)\n",
        "\n",
        "print(\"Best params:\", ada_grid_search.best_params_)\n",
        "print(\"Best score:\", ada_grid_search.best_score_)\n",
        "\n",
        "ada_score = cross_val_score(ada_grid_search.best_estimator_, x, y, cv=5)\n",
        "\n",
        "# print results\n",
        "print(\"Accuracy:\", str(ada_score.mean()))\n"
      ],
      "metadata": {
        "id": "X9FoaJN-d1Cy",
        "colab": {
          "base_uri": "https://localhost:8080/"
        },
        "outputId": "1a4bd05b-1c05-45a5-82f4-c99b0298f63f"
      },
      "execution_count": null,
      "outputs": [
        {
          "output_type": "stream",
          "name": "stdout",
          "text": [
            "Best params: {'n_estimators': 50}\n",
            "Best score: 0.8034090217325135\n",
            "Accuracy: 0.8034090217325135\n"
          ]
        }
      ]
    },
    {
      "cell_type": "markdown",
      "source": [
        "### Ensembling the Three Methods using VotingClassifier:"
      ],
      "metadata": {
        "id": "QA8edZ5Vd3P-"
      }
    },
    {
      "cell_type": "code",
      "source": [
        "from sklearn.ensemble import VotingClassifier\n",
        "\n",
        "classensemble = VotingClassifier(estimators=[('rand', RF_grid_search.best_estimator_), ('nb', nb), ('ada', ada_grid_search.best_estimator_)])\n",
        "ensaccs = cross_val_score(classensemble, x, y, cv=5, scoring='accuracy')\n",
        "print(\"Classification Ensemble Average Accuracy:\", ensaccs.mean())"
      ],
      "metadata": {
        "id": "RDQ_G0kMd2RK",
        "colab": {
          "base_uri": "https://localhost:8080/"
        },
        "outputId": "26c32bff-8634-489f-cd08-9f5828d45b7c"
      },
      "execution_count": null,
      "outputs": [
        {
          "output_type": "stream",
          "name": "stdout",
          "text": [
            "Classification Ensemble Average Accuracy: 0.8068667437754916\n"
          ]
        }
      ]
    },
    {
      "cell_type": "markdown",
      "source": [
        "Using a VotingClassifier to ensemble the best versions of the random forest, naive bayes, and adaboost classifiers results in an accuracy of ~80.7%. This means that using a combination of the three base estimators accurately bins ~80.7% of the songs in terms of popularity.\n",
        "\n",
        "We found that Gaussian Naive-Bayes Classifier performed the worst out of our three models. Ensembling the models slightly improved performance, though it was on-par with the better performing individual models."
      ],
      "metadata": {
        "id": "oT4_dVMed84Z"
      }
    },
    {
      "cell_type": "markdown",
      "source": [
        "# Analysis and Conclusions\n",
        "\n",
        "\n",
        "In this project, we performed a variety of models on a feature engineered dataset on Spotify data to predict a song's popularity. We found that our regression models were marginally improved when ensembled, though we still found the results underwhelming. However, there are a couple of explanations for the poor performance.\n",
        "\n",
        "1. As seen in our data exploration, much of our features are not normally distributed and have little correlation with popularity. Furthermore, many of our features do not necessarily have a linear relationship with popularity, which can also contribute to poor model performance.\n",
        "2. Some of our features are inherently categorical. Genre, for example, is a categorical feature, and though we one-hot encoded it, regression models may not handle these features well.\n",
        "3. Regression models are heavily skewed by outliers. Song popularity inherently has a lot of outliers, since there several big big international hits and a lot of songs that are incredibly obscure. These songs can easily lead to poor performance.\n",
        "\n",
        "After seeing underwhelming performance with regression models, we shifted to looking at classification models. We opted to us a threshold of 50 since it was an easy choice to make. We also looked at the histogram of popularity in our dataset and found that the majority of songs have incredibly low popularity. Thus, we decided that songs with a popularity above 50 could be considered \"popular.\" We found that classification models performed pretty well on our dataset, though ensembling the models we chose only marginally improved performance. However, we found that GNB performed considerably worse than the other models. There are a few explanations for this.\n",
        "\n",
        "1. GNB has been found to perform much better on categorical data than numerical data. Most of our data is numerical, which means that the model is inherently not suited for the work we want to do.\n",
        "2. Even if GNB could perform well on numerical data, we did not normalize our features, which could have negatively impacted the model's performance.\n",
        "\n",
        "While these may not necessarily be the reason why GNB performed poorly on our dataset, they may explain the discrepancy compared to our other models, which performed better. There are a couple explanations why\n",
        "\n",
        "1. AdaBoost and Random Forest are both better suited for non-linear relationships, which as shown in our data exploration, our data has.\n",
        "2. Both classifiers are also based on ensembling techniques, which may inherently lead to better performance\n",
        "\n",
        "Regardless of the data, we can conclude that our classification performed significantly better than our regression models."
      ],
      "metadata": {
        "id": "24dst3UteFtW"
      }
    },
    {
      "cell_type": "markdown",
      "source": [
        "# Future Steps\n",
        "\n",
        "Given more time and resources, there are several things we would have done that we believe would greatly increase the performance of models.\n",
        "\n",
        "First, if we had a lot more compute resources, we would perform more computationally expensive training. For instance, we could run grid search on way more hyperparameters. This would allow us to find better values for our current models and, consequently, increase their performance. Additionally, we would be able to utilize models that would typically take longer to train. There were several instances where we couldn't use a certain model because of the immense amount of time it took to train on our dataset. Having more computational resources would allow us to access these models and achieve better performance.\n",
        "\n",
        "Second, we would have researched more into techniques that would allow us to process features whose values can take on an infinite amount of possibilities, namely the album name, song name, and artist name in our dataset. Even though these features most definitely have an impact on the song's popularity, it isn't possible to just one-hot encode these features as it would create too many dimensions and since we didn't learn how to specifically deal with these features in class, we decided to just drop these columns altogether. However, there must exists some methods, such as a natural language processing or encoding technique, that would allow a model to take in these values without blowing up the dimensionality. With more time, we could have looked more into these methods and learned to incorporate them into our algorithms.\n",
        "\n",
        "Finally, we would have liked to alter the dataset to include more useful information. For example, one useful feature value to have would have been the release date of the song as we believe this would have a strong correlation with a song's current popularity. Furthermore, this data is also accessible on the internet, so, with enough time, we could have learned how to scrap the web and add this valuable information onto our data. This extra information would, in turn, improve the performance of our models."
      ],
      "metadata": {
        "id": "rdqgxrwJrNzs"
      }
    },
    {
      "cell_type": "markdown",
      "source": [],
      "metadata": {
        "id": "qRazu4kasZ_U"
      }
    }
  ]
}